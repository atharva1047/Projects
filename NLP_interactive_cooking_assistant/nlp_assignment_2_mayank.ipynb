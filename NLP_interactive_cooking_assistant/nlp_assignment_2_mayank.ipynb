{
 "cells": [
  {
   "cell_type": "code",
   "execution_count": 9,
   "id": "c999646c",
   "metadata": {},
   "outputs": [
    {
     "name": "stdout",
     "output_type": "stream",
     "text": [
      "Collecting tensorflow\n",
      "  Downloading tensorflow-2.11.0-cp37-cp37m-win_amd64.whl (1.9 kB)\n",
      "Collecting tensorflow-intel==2.11.0; platform_system == \"Windows\"\n",
      "  Downloading tensorflow_intel-2.11.0-cp37-cp37m-win_amd64.whl (266.3 MB)\n",
      "Collecting termcolor>=1.1.0\n",
      "  Downloading termcolor-2.1.1-py3-none-any.whl (6.2 kB)\n",
      "Collecting absl-py>=1.0.0\n",
      "  Downloading absl_py-1.3.0-py3-none-any.whl (124 kB)\n",
      "Requirement already satisfied: packaging in c:\\users\\atharva\\appdata\\local\\programs\\python\\python37\\lib\\site-packages (from tensorflow-intel==2.11.0; platform_system == \"Windows\"->tensorflow) (21.3)\n",
      "Collecting astunparse>=1.6.0\n",
      "  Downloading astunparse-1.6.3-py2.py3-none-any.whl (12 kB)\n",
      "Collecting grpcio<2.0,>=1.24.3\n",
      "  Downloading grpcio-1.50.0-cp37-cp37m-win_amd64.whl (3.6 MB)\n",
      "Collecting opt-einsum>=2.3.2\n",
      "  Downloading opt_einsum-3.3.0-py3-none-any.whl (65 kB)\n",
      "Collecting wrapt>=1.11.0\n",
      "  Downloading wrapt-1.14.1-cp37-cp37m-win_amd64.whl (35 kB)\n",
      "Collecting tensorflow-estimator<2.12,>=2.11.0\n",
      "  Downloading tensorflow_estimator-2.11.0-py2.py3-none-any.whl (439 kB)\n",
      "Requirement already satisfied: typing-extensions>=3.6.6 in c:\\users\\atharva\\appdata\\local\\programs\\python\\python37\\lib\\site-packages (from tensorflow-intel==2.11.0; platform_system == \"Windows\"->tensorflow) (4.1.1)\n",
      "Collecting keras<2.12,>=2.11.0\n",
      "  Downloading keras-2.11.0-py2.py3-none-any.whl (1.7 MB)\n",
      "Requirement already satisfied: numpy>=1.20 in c:\\users\\atharva\\appdata\\local\\programs\\python\\python37\\lib\\site-packages (from tensorflow-intel==2.11.0; platform_system == \"Windows\"->tensorflow) (1.21.6)\n",
      "Collecting flatbuffers>=2.0\n",
      "  Downloading flatbuffers-22.11.23-py2.py3-none-any.whl (26 kB)\n",
      "Collecting protobuf<3.20,>=3.9.2\n",
      "  Downloading protobuf-3.19.6-cp37-cp37m-win_amd64.whl (896 kB)\n",
      "Collecting gast<=0.4.0,>=0.2.1\n",
      "  Downloading gast-0.4.0-py3-none-any.whl (9.8 kB)\n",
      "Collecting libclang>=13.0.0\n",
      "  Downloading libclang-14.0.6-py2.py3-none-win_amd64.whl (14.2 MB)\n",
      "Requirement already satisfied: six>=1.12.0 in c:\\users\\atharva\\appdata\\local\\programs\\python\\python37\\lib\\site-packages (from tensorflow-intel==2.11.0; platform_system == \"Windows\"->tensorflow) (1.16.0)\n",
      "Collecting h5py>=2.9.0\n",
      "  Downloading h5py-3.7.0-cp37-cp37m-win_amd64.whl (2.6 MB)\n",
      "Collecting tensorflow-io-gcs-filesystem>=0.23.1; platform_machine != \"arm64\" or platform_system != \"Darwin\"\n",
      "  Downloading tensorflow_io_gcs_filesystem-0.28.0-cp37-cp37m-win_amd64.whl (1.5 MB)\n",
      "Collecting tensorboard<2.12,>=2.11\n",
      "  Downloading tensorboard-2.11.0-py3-none-any.whl (6.0 MB)\n",
      "Collecting google-pasta>=0.1.1\n",
      "  Downloading google_pasta-0.2.0-py3-none-any.whl (57 kB)\n",
      "Requirement already satisfied: setuptools in c:\\users\\atharva\\appdata\\local\\programs\\python\\python37\\lib\\site-packages (from tensorflow-intel==2.11.0; platform_system == \"Windows\"->tensorflow) (47.1.0)\n",
      "Requirement already satisfied: pyparsing!=3.0.5,>=2.0.2 in c:\\users\\atharva\\appdata\\local\\programs\\python\\python37\\lib\\site-packages (from packaging->tensorflow-intel==2.11.0; platform_system == \"Windows\"->tensorflow) (3.0.9)\n",
      "Collecting wheel<1.0,>=0.23.0\n",
      "  Downloading wheel-0.38.4-py3-none-any.whl (36 kB)\n",
      "Collecting tensorboard-data-server<0.7.0,>=0.6.0\n",
      "  Downloading tensorboard_data_server-0.6.1-py3-none-any.whl (2.4 kB)\n",
      "Collecting tensorboard-plugin-wit>=1.6.0\n",
      "  Downloading tensorboard_plugin_wit-1.8.1-py3-none-any.whl (781 kB)\n",
      "Collecting werkzeug>=1.0.1\n",
      "  Downloading Werkzeug-2.2.2-py3-none-any.whl (232 kB)\n",
      "Requirement already satisfied: requests<3,>=2.21.0 in c:\\users\\atharva\\appdata\\local\\programs\\python\\python37\\lib\\site-packages (from tensorboard<2.12,>=2.11->tensorflow-intel==2.11.0; platform_system == \"Windows\"->tensorflow) (2.28.1)\n",
      "Collecting markdown>=2.6.8\n",
      "  Downloading Markdown-3.4.1-py3-none-any.whl (93 kB)\n",
      "Collecting google-auth-oauthlib<0.5,>=0.4.1\n",
      "  Downloading google_auth_oauthlib-0.4.6-py2.py3-none-any.whl (18 kB)\n",
      "Collecting google-auth<3,>=1.6.3\n",
      "  Downloading google_auth-2.14.1-py2.py3-none-any.whl (175 kB)\n",
      "Requirement already satisfied: MarkupSafe>=2.1.1 in c:\\users\\atharva\\appdata\\local\\programs\\python\\python37\\lib\\site-packages (from werkzeug>=1.0.1->tensorboard<2.12,>=2.11->tensorflow-intel==2.11.0; platform_system == \"Windows\"->tensorflow) (2.1.1)\n",
      "Requirement already satisfied: idna<4,>=2.5 in c:\\users\\atharva\\appdata\\local\\programs\\python\\python37\\lib\\site-packages (from requests<3,>=2.21.0->tensorboard<2.12,>=2.11->tensorflow-intel==2.11.0; platform_system == \"Windows\"->tensorflow) (3.4)\n",
      "Requirement already satisfied: charset-normalizer<3,>=2 in c:\\users\\atharva\\appdata\\local\\programs\\python\\python37\\lib\\site-packages (from requests<3,>=2.21.0->tensorboard<2.12,>=2.11->tensorflow-intel==2.11.0; platform_system == \"Windows\"->tensorflow) (2.1.1)\n",
      "Requirement already satisfied: urllib3<1.27,>=1.21.1 in c:\\users\\atharva\\appdata\\local\\programs\\python\\python37\\lib\\site-packages (from requests<3,>=2.21.0->tensorboard<2.12,>=2.11->tensorflow-intel==2.11.0; platform_system == \"Windows\"->tensorflow) (1.26.12)\n",
      "Requirement already satisfied: certifi>=2017.4.17 in c:\\users\\atharva\\appdata\\local\\programs\\python\\python37\\lib\\site-packages (from requests<3,>=2.21.0->tensorboard<2.12,>=2.11->tensorflow-intel==2.11.0; platform_system == \"Windows\"->tensorflow) (2022.9.24)\n",
      "Requirement already satisfied: importlib-metadata>=4.4; python_version < \"3.10\" in c:\\users\\atharva\\appdata\\local\\programs\\python\\python37\\lib\\site-packages (from markdown>=2.6.8->tensorboard<2.12,>=2.11->tensorflow-intel==2.11.0; platform_system == \"Windows\"->tensorflow) (5.0.0)\n",
      "Collecting requests-oauthlib>=0.7.0\n",
      "  Downloading requests_oauthlib-1.3.1-py2.py3-none-any.whl (23 kB)\n",
      "Collecting pyasn1-modules>=0.2.1\n",
      "  Downloading pyasn1_modules-0.2.8-py2.py3-none-any.whl (155 kB)\n",
      "Collecting rsa<5,>=3.1.4; python_version >= \"3.6\"\n",
      "  Downloading rsa-4.9-py3-none-any.whl (34 kB)\n",
      "Collecting cachetools<6.0,>=2.0.0\n",
      "  Downloading cachetools-5.2.0-py3-none-any.whl (9.3 kB)\n",
      "Requirement already satisfied: zipp>=0.5 in c:\\users\\atharva\\appdata\\local\\programs\\python\\python37\\lib\\site-packages (from importlib-metadata>=4.4; python_version < \"3.10\"->markdown>=2.6.8->tensorboard<2.12,>=2.11->tensorflow-intel==2.11.0; platform_system == \"Windows\"->tensorflow) (3.9.0)\n",
      "Collecting oauthlib>=3.0.0\n",
      "  Downloading oauthlib-3.2.2-py3-none-any.whl (151 kB)\n",
      "Collecting pyasn1<0.5.0,>=0.4.6\n",
      "  Downloading pyasn1-0.4.8-py2.py3-none-any.whl (77 kB)\n",
      "Installing collected packages: termcolor, absl-py, wheel, astunparse, grpcio, opt-einsum, wrapt, tensorflow-estimator, keras, flatbuffers, protobuf, gast, libclang, h5py, tensorflow-io-gcs-filesystem, tensorboard-data-server, tensorboard-plugin-wit, werkzeug, markdown, pyasn1, pyasn1-modules, rsa, cachetools, google-auth, oauthlib, requests-oauthlib, google-auth-oauthlib, tensorboard, google-pasta, tensorflow-intel, tensorflow\n",
      "Successfully installed absl-py-1.3.0 astunparse-1.6.3 cachetools-5.2.0 flatbuffers-22.11.23 gast-0.4.0 google-auth-2.14.1 google-auth-oauthlib-0.4.6 google-pasta-0.2.0 grpcio-1.50.0 h5py-3.7.0 keras-2.11.0 libclang-14.0.6 markdown-3.4.1 oauthlib-3.2.2 opt-einsum-3.3.0 protobuf-3.19.6 pyasn1-0.4.8 pyasn1-modules-0.2.8 requests-oauthlib-1.3.1 rsa-4.9 tensorboard-2.11.0 tensorboard-data-server-0.6.1 tensorboard-plugin-wit-1.8.1 tensorflow-2.11.0 tensorflow-estimator-2.11.0 tensorflow-intel-2.11.0 tensorflow-io-gcs-filesystem-0.28.0 termcolor-2.1.1 werkzeug-2.2.2 wheel-0.38.4 wrapt-1.14.1\n"
     ]
    },
    {
     "name": "stderr",
     "output_type": "stream",
     "text": [
      "WARNING: You are using pip version 20.1.1; however, version 22.3.1 is available.\n",
      "You should consider upgrading via the 'c:\\users\\atharva\\appdata\\local\\programs\\python\\python37\\python.exe -m pip install --upgrade pip' command.\n"
     ]
    }
   ],
   "source": [
    "!pip install tensorflow"
   ]
  },
  {
   "cell_type": "code",
   "execution_count": 10,
   "id": "20c52a86",
   "metadata": {},
   "outputs": [],
   "source": [
    "import tensorflow as tf"
   ]
  },
  {
   "cell_type": "code",
   "execution_count": 4,
   "id": "a86b51d2",
   "metadata": {},
   "outputs": [],
   "source": [
    "from selenium.webdriver.support import expected_conditions as EC\n",
    "from selenium.webdriver.common.by import By\n",
    "from selenium.webdriver.support.ui import WebDriverWait\n",
    "from selenium.common.exceptions import TimeoutException\n",
    "from bs4 import BeautifulSoup\n",
    "from selenium.webdriver.common.keys import Keys\n",
    "from selenium import webdriver\n",
    "import warnings\n",
    "warnings.filterwarnings(\"ignore\")\n",
    "\n",
    "from selenium import webdriver\n",
    "from selenium.webdriver.common.keys import Keys\n",
    "from selenium.webdriver.common.by import By\n",
    "from selenium.webdriver.support.ui import Select\n",
    "\n",
    "import time\n",
    "import pandas as pd\n",
    "\n",
    "from datetime import datetime\n"
   ]
  },
  {
   "cell_type": "code",
   "execution_count": 5,
   "id": "b20c50c7",
   "metadata": {},
   "outputs": [],
   "source": [
    "# config\n",
    "\n",
    "website = 'https://recipes.timesofindia.com/recipes/'\n",
    "\n",
    "recipe = 'dal makhani'\n",
    "req_attrib = ['quantity','unit','suffix','displayname']\n",
    "serving = 10"
   ]
  },
  {
   "cell_type": "code",
   "execution_count": 6,
   "id": "df9db131",
   "metadata": {},
   "outputs": [],
   "source": [
    "def get_recipe_toi(driver,website,recipe,req_attrib,serving):\n",
    "    ingred = dict()\n",
    "    steps = dict()\n",
    "    driver.get(website)\n",
    "    if driver.find_elements(By.XPATH,\"//span[@class = 'ntfc_buttongroup']\") != []:\n",
    "        driver.find_element(By.XPATH,\"//span[@class = 'ntfc_buttongroup']\").click()\n",
    "    driver.find_element(By.XPATH,\"//input[@placeholder = 'Find a recipe...']\").click()\n",
    "    driver.find_element(By.XPATH,\"//input[@placeholder = 'Find a recipe...']\").send_keys(recipe)\n",
    "    time.sleep(5)\n",
    "    driver.find_element(By.XPATH,\"//div[@id = 'searchListing']//a\").click()\n",
    "    time.sleep(3)\n",
    "    #try:\n",
    "    #    driver.find_elements(By.XPATH,\"//div[@class = 'servingselect']//option\")[serving-1].click()\n",
    "    #except IndexError as E:\n",
    "    #    # todo : handle outofbound serving case by multiplying by single proportion.\n",
    "    #    driver.find_elements(By.XPATH,\"//div[@class = 'servingselect']//option\")[1].click()\n",
    "\n",
    "    temp = 1\n",
    "    for i in driver.find_elements(By.XPATH,\"//div[@id = 'ingredata']//li[@class='clearfix']\"):\n",
    "        ingred[temp] = dict()\n",
    "        for j in req_attrib:\n",
    "            ingred[temp][j] = i.get_attribute(j)\n",
    "            #print(j+': '+i.get_attribute(j))\n",
    "        #ingred\n",
    "        temp+=1\n",
    "        \n",
    "    for i in range(len(driver.find_elements(By.XPATH,\"//div[@class = 'steps_listings clearfix']//p\"))):\n",
    "        steps[i] = driver.find_elements(By.XPATH,\"//div[@class = 'steps_listings clearfix']//p\")[i].text\n",
    "    #print('step',i)\n",
    "    #print(driver.find_elements(By.XPATH,\"//div[@class = 'steps_listings clearfix']//p\")[i].text)\n",
    "    return ingred,steps"
   ]
  },
  {
   "cell_type": "code",
   "execution_count": 8,
   "id": "217f2128",
   "metadata": {},
   "outputs": [],
   "source": [
    "#call the driver\n",
    "\n",
    "driver = webdriver.Chrome()"
   ]
  },
  {
   "cell_type": "code",
   "execution_count": null,
   "id": "57348d3e",
   "metadata": {},
   "outputs": [],
   "source": [
    "ingred, steps = get_recipe_toi(driver,website,recipe,req_attrib,serving)"
   ]
  },
  {
   "cell_type": "code",
   "execution_count": null,
   "id": "a41f3d49",
   "metadata": {},
   "outputs": [],
   "source": [
    "ingred"
   ]
  },
  {
   "cell_type": "code",
   "execution_count": null,
   "id": "42259b96",
   "metadata": {},
   "outputs": [],
   "source": [
    "steps"
   ]
  },
  {
   "cell_type": "markdown",
   "id": "58e514df",
   "metadata": {},
   "source": [
    "# kaggle dataset"
   ]
  },
  {
   "cell_type": "code",
   "execution_count": 42,
   "id": "08da11ae",
   "metadata": {},
   "outputs": [],
   "source": [
    "df = pd.read_csv('/Users/mayankkhurana/Downloads/IndianFoodDatasetCSV.csv')\n",
    "recipe_name = 'gongura chicken'"
   ]
  },
  {
   "cell_type": "code",
   "execution_count": 61,
   "id": "4b034ab8",
   "metadata": {},
   "outputs": [
    {
     "data": {
      "text/plain": [
       "Srno                                                                      4\n",
       "RecipeName                Gongura Chicken Curry Recipe - Andhra Style Go...\n",
       "TranslatedRecipeName      Gongura Chicken Curry Recipe - Andhra Style Go...\n",
       "Ingredients               500 grams Chicken,2 Onion - chopped,1 Tomato -...\n",
       "TranslatedIngredients     500 grams Chicken,2 Onion - chopped,1 Tomato -...\n",
       "PrepTimeInMins                                                           15\n",
       "CookTimeInMins                                                           30\n",
       "TotalTimeInMins                                                          45\n",
       "Servings                                                                  4\n",
       "Cuisine                                                              Andhra\n",
       "Course                                                                Lunch\n",
       "Diet                                                         Non Vegeterian\n",
       "Instructions              To begin making Gongura Chicken Curry Recipe f...\n",
       "TranslatedInstructions    To begin making Gongura Chicken Curry Recipe f...\n",
       "URL                       http://www.archanaskitchen.com/gongura-chicken...\n",
       "Name: 3, dtype: object"
      ]
     },
     "execution_count": 61,
     "metadata": {},
     "output_type": "execute_result"
    }
   ],
   "source": [
    "recipe = df[df['TranslatedRecipeName'].str.find(\"Gongura Chicken\") == 0].iloc[0]"
   ]
  },
  {
   "cell_type": "code",
   "execution_count": 43,
   "id": "7cb9a454",
   "metadata": {},
   "outputs": [
    {
     "data": {
      "text/html": [
       "<div>\n",
       "<style scoped>\n",
       "    .dataframe tbody tr th:only-of-type {\n",
       "        vertical-align: middle;\n",
       "    }\n",
       "\n",
       "    .dataframe tbody tr th {\n",
       "        vertical-align: top;\n",
       "    }\n",
       "\n",
       "    .dataframe thead th {\n",
       "        text-align: right;\n",
       "    }\n",
       "</style>\n",
       "<table border=\"1\" class=\"dataframe\">\n",
       "  <thead>\n",
       "    <tr style=\"text-align: right;\">\n",
       "      <th></th>\n",
       "      <th>Srno</th>\n",
       "      <th>RecipeName</th>\n",
       "      <th>TranslatedRecipeName</th>\n",
       "      <th>Ingredients</th>\n",
       "      <th>TranslatedIngredients</th>\n",
       "      <th>PrepTimeInMins</th>\n",
       "      <th>CookTimeInMins</th>\n",
       "      <th>TotalTimeInMins</th>\n",
       "      <th>Servings</th>\n",
       "      <th>Cuisine</th>\n",
       "      <th>Course</th>\n",
       "      <th>Diet</th>\n",
       "      <th>Instructions</th>\n",
       "      <th>TranslatedInstructions</th>\n",
       "      <th>URL</th>\n",
       "    </tr>\n",
       "  </thead>\n",
       "  <tbody>\n",
       "    <tr>\n",
       "      <th>0</th>\n",
       "      <td>1</td>\n",
       "      <td>Masala Karela Recipe</td>\n",
       "      <td>Masala Karela Recipe</td>\n",
       "      <td>6 Karela (Bitter Gourd/ Pavakkai) - deseeded,S...</td>\n",
       "      <td>6 Karela (Bitter Gourd/ Pavakkai) - deseeded,S...</td>\n",
       "      <td>15</td>\n",
       "      <td>30</td>\n",
       "      <td>45</td>\n",
       "      <td>6</td>\n",
       "      <td>Indian</td>\n",
       "      <td>Side Dish</td>\n",
       "      <td>Diabetic Friendly</td>\n",
       "      <td>To begin making the Masala Karela Recipe,de-se...</td>\n",
       "      <td>To begin making the Masala Karela Recipe,de-se...</td>\n",
       "      <td>https://www.archanaskitchen.com/masala-karela-...</td>\n",
       "    </tr>\n",
       "    <tr>\n",
       "      <th>1</th>\n",
       "      <td>2</td>\n",
       "      <td>टमाटर पुलियोगरे रेसिपी - Spicy Tomato Rice (Re...</td>\n",
       "      <td>Spicy Tomato Rice (Recipe)</td>\n",
       "      <td>2-1/2 कप चावल - पका ले,3 टमाटर,3 छोटा चमच्च बी...</td>\n",
       "      <td>2-1 / 2 cups rice - cooked, 3 tomatoes, 3 teas...</td>\n",
       "      <td>5</td>\n",
       "      <td>10</td>\n",
       "      <td>15</td>\n",
       "      <td>3</td>\n",
       "      <td>South Indian Recipes</td>\n",
       "      <td>Main Course</td>\n",
       "      <td>Vegetarian</td>\n",
       "      <td>टमाटर पुलियोगरे बनाने के लिए सबसे पहले टमाटर क...</td>\n",
       "      <td>To make tomato puliogere, first cut the tomato...</td>\n",
       "      <td>http://www.archanaskitchen.com/spicy-tomato-ri...</td>\n",
       "    </tr>\n",
       "    <tr>\n",
       "      <th>2</th>\n",
       "      <td>3</td>\n",
       "      <td>Ragi Semiya Upma Recipe - Ragi Millet Vermicel...</td>\n",
       "      <td>Ragi Semiya Upma Recipe - Ragi Millet Vermicel...</td>\n",
       "      <td>1-1/2 cups Rice Vermicelli Noodles (Thin),1 On...</td>\n",
       "      <td>1-1/2 cups Rice Vermicelli Noodles (Thin),1 On...</td>\n",
       "      <td>20</td>\n",
       "      <td>30</td>\n",
       "      <td>50</td>\n",
       "      <td>4</td>\n",
       "      <td>South Indian Recipes</td>\n",
       "      <td>South Indian Breakfast</td>\n",
       "      <td>High Protein Vegetarian</td>\n",
       "      <td>To begin making the Ragi Vermicelli Recipe, fi...</td>\n",
       "      <td>To begin making the Ragi Vermicelli Recipe, fi...</td>\n",
       "      <td>http://www.archanaskitchen.com/ragi-vermicelli...</td>\n",
       "    </tr>\n",
       "    <tr>\n",
       "      <th>3</th>\n",
       "      <td>4</td>\n",
       "      <td>Gongura Chicken Curry Recipe - Andhra Style Go...</td>\n",
       "      <td>Gongura Chicken Curry Recipe - Andhra Style Go...</td>\n",
       "      <td>500 grams Chicken,2 Onion - chopped,1 Tomato -...</td>\n",
       "      <td>500 grams Chicken,2 Onion - chopped,1 Tomato -...</td>\n",
       "      <td>15</td>\n",
       "      <td>30</td>\n",
       "      <td>45</td>\n",
       "      <td>4</td>\n",
       "      <td>Andhra</td>\n",
       "      <td>Lunch</td>\n",
       "      <td>Non Vegeterian</td>\n",
       "      <td>To begin making Gongura Chicken Curry Recipe f...</td>\n",
       "      <td>To begin making Gongura Chicken Curry Recipe f...</td>\n",
       "      <td>http://www.archanaskitchen.com/gongura-chicken...</td>\n",
       "    </tr>\n",
       "    <tr>\n",
       "      <th>4</th>\n",
       "      <td>5</td>\n",
       "      <td>आंध्रा स्टाइल आलम पचड़ी रेसिपी - Adrak Chutney ...</td>\n",
       "      <td>Andhra Style Alam Pachadi Recipe - Adrak Chutn...</td>\n",
       "      <td>1 बड़ा चमच्च चना दाल,1 बड़ा चमच्च सफ़ेद उरद दाल,2...</td>\n",
       "      <td>1 tablespoon chana dal, 1 tablespoon white ura...</td>\n",
       "      <td>10</td>\n",
       "      <td>20</td>\n",
       "      <td>30</td>\n",
       "      <td>4</td>\n",
       "      <td>Andhra</td>\n",
       "      <td>South Indian Breakfast</td>\n",
       "      <td>Vegetarian</td>\n",
       "      <td>आंध्रा स्टाइल आलम पचड़ी बनाने के लिए सबसे पहले ...</td>\n",
       "      <td>To make Andhra Style Alam Pachadi, first heat ...</td>\n",
       "      <td>https://www.archanaskitchen.com/andhra-style-a...</td>\n",
       "    </tr>\n",
       "  </tbody>\n",
       "</table>\n",
       "</div>"
      ],
      "text/plain": [
       "   Srno                                         RecipeName  \\\n",
       "0     1                               Masala Karela Recipe   \n",
       "1     2  टमाटर पुलियोगरे रेसिपी - Spicy Tomato Rice (Re...   \n",
       "2     3  Ragi Semiya Upma Recipe - Ragi Millet Vermicel...   \n",
       "3     4  Gongura Chicken Curry Recipe - Andhra Style Go...   \n",
       "4     5  आंध्रा स्टाइल आलम पचड़ी रेसिपी - Adrak Chutney ...   \n",
       "\n",
       "                                TranslatedRecipeName  \\\n",
       "0                               Masala Karela Recipe   \n",
       "1                         Spicy Tomato Rice (Recipe)   \n",
       "2  Ragi Semiya Upma Recipe - Ragi Millet Vermicel...   \n",
       "3  Gongura Chicken Curry Recipe - Andhra Style Go...   \n",
       "4  Andhra Style Alam Pachadi Recipe - Adrak Chutn...   \n",
       "\n",
       "                                         Ingredients  \\\n",
       "0  6 Karela (Bitter Gourd/ Pavakkai) - deseeded,S...   \n",
       "1  2-1/2 कप चावल - पका ले,3 टमाटर,3 छोटा चमच्च बी...   \n",
       "2  1-1/2 cups Rice Vermicelli Noodles (Thin),1 On...   \n",
       "3  500 grams Chicken,2 Onion - chopped,1 Tomato -...   \n",
       "4  1 बड़ा चमच्च चना दाल,1 बड़ा चमच्च सफ़ेद उरद दाल,2...   \n",
       "\n",
       "                               TranslatedIngredients  PrepTimeInMins  \\\n",
       "0  6 Karela (Bitter Gourd/ Pavakkai) - deseeded,S...              15   \n",
       "1  2-1 / 2 cups rice - cooked, 3 tomatoes, 3 teas...               5   \n",
       "2  1-1/2 cups Rice Vermicelli Noodles (Thin),1 On...              20   \n",
       "3  500 grams Chicken,2 Onion - chopped,1 Tomato -...              15   \n",
       "4  1 tablespoon chana dal, 1 tablespoon white ura...              10   \n",
       "\n",
       "   CookTimeInMins  TotalTimeInMins  Servings               Cuisine  \\\n",
       "0              30               45         6                Indian   \n",
       "1              10               15         3  South Indian Recipes   \n",
       "2              30               50         4  South Indian Recipes   \n",
       "3              30               45         4                Andhra   \n",
       "4              20               30         4                Andhra   \n",
       "\n",
       "                   Course                     Diet  \\\n",
       "0               Side Dish        Diabetic Friendly   \n",
       "1             Main Course               Vegetarian   \n",
       "2  South Indian Breakfast  High Protein Vegetarian   \n",
       "3                   Lunch           Non Vegeterian   \n",
       "4  South Indian Breakfast               Vegetarian   \n",
       "\n",
       "                                        Instructions  \\\n",
       "0  To begin making the Masala Karela Recipe,de-se...   \n",
       "1  टमाटर पुलियोगरे बनाने के लिए सबसे पहले टमाटर क...   \n",
       "2  To begin making the Ragi Vermicelli Recipe, fi...   \n",
       "3  To begin making Gongura Chicken Curry Recipe f...   \n",
       "4  आंध्रा स्टाइल आलम पचड़ी बनाने के लिए सबसे पहले ...   \n",
       "\n",
       "                              TranslatedInstructions  \\\n",
       "0  To begin making the Masala Karela Recipe,de-se...   \n",
       "1  To make tomato puliogere, first cut the tomato...   \n",
       "2  To begin making the Ragi Vermicelli Recipe, fi...   \n",
       "3  To begin making Gongura Chicken Curry Recipe f...   \n",
       "4  To make Andhra Style Alam Pachadi, first heat ...   \n",
       "\n",
       "                                                 URL  \n",
       "0  https://www.archanaskitchen.com/masala-karela-...  \n",
       "1  http://www.archanaskitchen.com/spicy-tomato-ri...  \n",
       "2  http://www.archanaskitchen.com/ragi-vermicelli...  \n",
       "3  http://www.archanaskitchen.com/gongura-chicken...  \n",
       "4  https://www.archanaskitchen.com/andhra-style-a...  "
      ]
     },
     "execution_count": 43,
     "metadata": {},
     "output_type": "execute_result"
    }
   ],
   "source": [
    "df.TranslatedRecipeName"
   ]
  },
  {
   "cell_type": "code",
   "execution_count": 6,
   "id": "9f040fce",
   "metadata": {},
   "outputs": [
    {
     "data": {
      "text/plain": [
       "'2-1 / 2 cups rice - cooked, 3 tomatoes, 3 teaspoons BC Belle Bhat powder, salt - as per taste, 1 teaspoon chickpea lentils, 1/2 teaspoon cumin seeds, 1 teaspoon white urad dal, 1/2 Teaspoon mustard, 1 green chilli, 1 dry red chilli, 2 teaspoon cashew - or peanuts, 1-1 / 2 tablespoon oil - 1/2 teaspoon asafoetida'"
      ]
     },
     "execution_count": 6,
     "metadata": {},
     "output_type": "execute_result"
    }
   ],
   "source": [
    "df.iloc[1].TranslatedIngredients"
   ]
  },
  {
   "cell_type": "code",
   "execution_count": 7,
   "id": "7d12cdeb",
   "metadata": {},
   "outputs": [],
   "source": [
    "units = ['teaspoon','teaspoons',\n",
    " 'dessertspoon','dessertspoons'\n",
    " 'tablespoon','tablespoon',\n",
    " 'fluid',\n",
    " 'ounce','ounces'\n",
    " 'cup','cups',\n",
    " 'pint','pints',\n",
    " 'quart','quarts',\n",
    " 'gallon''gallons']"
   ]
  },
  {
   "cell_type": "code",
   "execution_count": 8,
   "id": "a1eabae4",
   "metadata": {},
   "outputs": [],
   "source": [
    "import re"
   ]
  },
  {
   "cell_type": "code",
   "execution_count": null,
   "id": "d508b870",
   "metadata": {},
   "outputs": [],
   "source": []
  },
  {
   "cell_type": "code",
   "execution_count": 11,
   "id": "c60613e3",
   "metadata": {},
   "outputs": [
    {
     "ename": "NameError",
     "evalue": "name 'preprocessing' is not defined",
     "output_type": "error",
     "traceback": [
      "\u001b[1;31m---------------------------------------------------------------------------\u001b[0m",
      "\u001b[1;31mNameError\u001b[0m                                 Traceback (most recent call last)",
      "\u001b[1;32m~\\AppData\\Local\\Temp\\ipykernel_28376\\360724549.py\u001b[0m in \u001b[0;36m<module>\u001b[1;34m\u001b[0m\n\u001b[1;32m----> 1\u001b[1;33m \u001b[0mpreprocessing\u001b[0m\u001b[1;33m(\u001b[0m\u001b[0mtext\u001b[0m\u001b[1;33m)\u001b[0m\u001b[1;33m\u001b[0m\u001b[1;33m\u001b[0m\u001b[0m\n\u001b[0m",
      "\u001b[1;31mNameError\u001b[0m: name 'preprocessing' is not defined"
     ]
    }
   ],
   "source": [
    "preprocessing(text)"
   ]
  },
  {
   "cell_type": "code",
   "execution_count": null,
   "id": "2d72cd75",
   "metadata": {},
   "outputs": [],
   "source": [
    "text = df.TranslatedIngredients.iloc[6866]\n",
    "fi_ = []\n",
    "#re.findall('((?:[0-9+])(?:-* *)*(?:[0-9]* *)(?:/* *[0-9]*))', test.strip())\n",
    "text = re.sub('( / )','/', text)\n",
    "for i in text.split(','):\n",
    "    i = i.lower()\n",
    "    quantity_and_text = re.findall('((?:[0-9+])(?:-*)(?:[0-9]*)(?:/*[0-9]*))(.*)',i)\n",
    "    \n",
    "    if quantity_and_text != []:\n",
    "        quantity = quantity_and_text[0][0]\n",
    "        unit_and_name = quantity_and_text[0][1].strip()\n",
    "        #units\n",
    "        print(unit_and_name)\n",
    "        for j in units:\n",
    "            if j in unit_and_name:\n",
    "                unit = j\n",
    "                name = unit_and_name.lstrip(j)\n",
    "                print(unit,)\n",
    "                print()\n",
    "                break\n",
    "            else:\n",
    "                unit = 'NA'\n",
    "                name = unit_and_name.strip()\n",
    "    quantity_unit_name = (quantity,unit,name.strip())\n",
    "        #return quantity_unit_name\n",
    "    fi_.append(quantity_unit_name)\n",
    "print(fi_)\n",
    "    \n",
    "    \n",
    "#test = test.split(',')"
   ]
  },
  {
   "cell_type": "code",
   "execution_count": null,
   "id": "e53a7201",
   "metadata": {},
   "outputs": [],
   "source": [
    "a= ' teaspoon cashew - or peanuts'\n",
    "name = a.lstrip('teaspoon')"
   ]
  },
  {
   "cell_type": "code",
   "execution_count": 12,
   "id": "cd2ca565",
   "metadata": {},
   "outputs": [
    {
     "ename": "NameError",
     "evalue": "name 'test' is not defined",
     "output_type": "error",
     "traceback": [
      "\u001b[1;31m---------------------------------------------------------------------------\u001b[0m",
      "\u001b[1;31mNameError\u001b[0m                                 Traceback (most recent call last)",
      "\u001b[1;32m~\\AppData\\Local\\Temp\\ipykernel_28376\\826659468.py\u001b[0m in \u001b[0;36m<module>\u001b[1;34m\u001b[0m\n\u001b[0;32m      1\u001b[0m \u001b[1;32mfrom\u001b[0m \u001b[0mnltk\u001b[0m \u001b[1;32mimport\u001b[0m \u001b[0mpos_tag\u001b[0m\u001b[1;33m\u001b[0m\u001b[1;33m\u001b[0m\u001b[0m\n\u001b[0;32m      2\u001b[0m \u001b[1;32mfrom\u001b[0m \u001b[0mnltk\u001b[0m \u001b[1;32mimport\u001b[0m \u001b[0mRegexpParser\u001b[0m\u001b[1;33m\u001b[0m\u001b[1;33m\u001b[0m\u001b[0m\n\u001b[1;32m----> 3\u001b[1;33m \u001b[1;32mfor\u001b[0m \u001b[0mi\u001b[0m \u001b[1;32min\u001b[0m \u001b[0mtest\u001b[0m\u001b[1;33m:\u001b[0m\u001b[1;33m\u001b[0m\u001b[1;33m\u001b[0m\u001b[0m\n\u001b[0m\u001b[0;32m      4\u001b[0m     \u001b[0mprint\u001b[0m\u001b[1;33m(\u001b[0m\u001b[0mpos_tag\u001b[0m\u001b[1;33m(\u001b[0m\u001b[0mi\u001b[0m\u001b[1;33m.\u001b[0m\u001b[0mlower\u001b[0m\u001b[1;33m(\u001b[0m\u001b[1;33m)\u001b[0m\u001b[1;33m.\u001b[0m\u001b[0msplit\u001b[0m\u001b[1;33m(\u001b[0m\u001b[1;33m)\u001b[0m\u001b[1;33m)\u001b[0m\u001b[1;33m)\u001b[0m\u001b[1;33m\u001b[0m\u001b[1;33m\u001b[0m\u001b[0m\n",
      "\u001b[1;31mNameError\u001b[0m: name 'test' is not defined"
     ]
    }
   ],
   "source": [
    "from nltk import pos_tag\n",
    "from nltk import RegexpParser\n",
    "for i in test:\n",
    "    print(pos_tag(i.lower().split()))"
   ]
  },
  {
   "cell_type": "code",
   "execution_count": null,
   "id": "1969b688",
   "metadata": {},
   "outputs": [],
   "source": [
    "def TextFilter(text):\n",
    "    return re.findall('(^0-9+0-9$)', text)"
   ]
  },
  {
   "cell_type": "code",
   "execution_count": 27,
   "id": "71b80bfe",
   "metadata": {},
   "outputs": [],
   "source": [
    "def preprocessing_ingred(text):\n",
    "    \n",
    "    collected_answers = []\n",
    "    text = re.sub('( / )','/', text)\n",
    "    for i in text.split(','):\n",
    "        i = i.lower()\n",
    "        quantity_and_text = re.findall('((?:[0-9+])(?:-*)(?:[0-9]*)(?:/*[0-9]*))(.*)',i)\n",
    "\n",
    "        if quantity_and_text != []:\n",
    "            quantity = quantity_and_text[0][0]\n",
    "            unit_and_name = quantity_and_text[0][1].strip()\n",
    "            #units\n",
    "            for j in units:\n",
    "                if j in unit_and_name:\n",
    "                    unit = j\n",
    "                    name = unit_and_name.lstrip(j)\n",
    "                    break\n",
    "                else:\n",
    "                    unit = 'NA'\n",
    "                    name = unit_and_name.strip()\n",
    "            collected_answers.append((quantity,unit,name.strip()))\n",
    "    return collected_answers"
   ]
  },
  {
   "cell_type": "code",
   "execution_count": null,
   "id": "4ae170f5",
   "metadata": {},
   "outputs": [],
   "source": []
  },
  {
   "cell_type": "code",
   "execution_count": null,
   "id": "7f6571b2",
   "metadata": {},
   "outputs": [],
   "source": [
    "df.TranslatedIngredients.iloc[:5]"
   ]
  },
  {
   "cell_type": "code",
   "execution_count": 29,
   "id": "d85abf57",
   "metadata": {},
   "outputs": [],
   "source": [
    "TranslatedIngredients = df.TranslatedIngredients.astype(str).apply(preprocessing_ingred)"
   ]
  },
  {
   "cell_type": "code",
   "execution_count": 31,
   "id": "12be2f42",
   "metadata": {},
   "outputs": [
    {
     "data": {
      "text/plain": [
       "[('2-1/2', 'cups', 'rice - cooked'),\n",
       " ('3', 'NA', 'tomatoes'),\n",
       " ('3', 'teaspoon', 'bc belle bhat powder'),\n",
       " ('1', 'teaspoon', 'chickpea lentils'),\n",
       " ('1/2', 'teaspoon', 'cumin seeds'),\n",
       " ('1', 'teaspoon', 'white urad dal'),\n",
       " ('1/2', 'teaspoon', 'mustard'),\n",
       " ('1', 'NA', 'green chilli'),\n",
       " ('1', 'NA', 'dry red chilli'),\n",
       " ('2', 'teaspoon', 'cashew - or peanuts'),\n",
       " ('1-1/2', 'teaspoon', 'blespoon oil - 1/2 teaspoon asafoetida')]"
      ]
     },
     "execution_count": 31,
     "metadata": {},
     "output_type": "execute_result"
    }
   ],
   "source": [
    "TranslatedIngredients[1]"
   ]
  },
  {
   "cell_type": "code",
   "execution_count": null,
   "id": "76800a4d",
   "metadata": {},
   "outputs": [],
   "source": [
    "' '.strip() "
   ]
  },
  {
   "cell_type": "code",
   "execution_count": null,
   "id": "7e2627b8",
   "metadata": {},
   "outputs": [],
   "source": [
    "test = df.iloc[0].TranslatedInstructions\n",
    "text = re.sub('(\\xa0)',' ', test).lower()\n",
    "text = text.split('.')\n",
    "fi_step = []\n",
    "for i in range(len(text)):\n",
    "    step = text[i].strip()\n",
    "    if 'do not' in text[i]:\n",
    "        step = (fi_step.pop(-1) + '.' + step).strip()\n",
    "        fi_step.append(step)\n",
    "    elif step != '':\n",
    "        fi_step.append(step)\n",
    "\n",
    "        "
   ]
  },
  {
   "cell_type": "code",
   "execution_count": 10,
   "id": "a063ce59",
   "metadata": {},
   "outputs": [],
   "source": [
    "def preprocessing_steps(text):\n",
    "    text = re.sub('(\\xa0)',' ', text).lower()\n",
    "    text = text.split('.')\n",
    "    fi_step = []\n",
    "    for i in range(len(text)):\n",
    "        step = text[i].strip()\n",
    "        if 'do not' in text[i] and len(fi_step)!=0:\n",
    "            step = (fi_step.pop(-1) + '.' + step).strip()\n",
    "            fi_step.append(step)\n",
    "        elif step != '':\n",
    "            fi_step.append(step)\n",
    "    return fi_step"
   ]
  },
  {
   "cell_type": "code",
   "execution_count": null,
   "id": "1539e949",
   "metadata": {},
   "outputs": [],
   "source": [
    "df.TranslatedInstructions.astype(str)"
   ]
  },
  {
   "cell_type": "code",
   "execution_count": 11,
   "id": "9c4c8238",
   "metadata": {},
   "outputs": [],
   "source": [
    "TranslatedInstructions = df.TranslatedInstructions.astype(str).apply(preprocessing_steps)"
   ]
  },
  {
   "cell_type": "code",
   "execution_count": 12,
   "id": "b018b2a5",
   "metadata": {},
   "outputs": [
    {
     "name": "stdout",
     "output_type": "stream",
     "text": [
      "['to begin making the masala karela recipe,de-seed the karela and slice.do not remove the skin as the skin has all the nutrients', 'add the karela to the pressure cooker with 3 tablespoon of water, salt and turmeric powder and pressure cook for three whistles', 'release the pressure immediately and open the lids', 'keep aside', 'heat oil in a heavy bottomed pan or a kadhai', 'add cumin seeds and let it sizzle', 'once the cumin seeds have sizzled, add onions and saute them till it turns golden brown in color', 'add the karela, red chilli powder, amchur powder, coriander powder and besan', 'stir to combine the masalas into the karela', 'drizzle a little extra oil on the top and mix again', 'cover the pan and simmer masala karela stirring occasionally until everything comes together well', 'turn off the heat', 'transfer masala karela into a serving bowl and serve', 'serve masala karela along with panchmel dal and phulka for a weekday meal with your family']\n",
      "\n",
      "['to make tomato puliogere, first cut the tomatoes', 'now put in a mixer grinder and puree it', 'now heat oil in a pan', 'after the oil is hot, add chana dal, urad dal, cashew and let it cook for 10 to 20 seconds', 'after 10 to 20 seconds, add cumin seeds, mustard seeds, green chillies, dry red chillies and curry leaves', 'after 30 seconds, add tomato puree to it and mix', 'add bc belle bhat powder, salt and mix it', 'allow to cook for 7 to 8 minutes and then turn off the gas', 'take it out in a bowl, add cooked rice and mix it', 'serve hot', 'serve tomato puliogre with tomato cucumber raita and papad for dinner']\n",
      "\n",
      "['to begin making the ragi vermicelli recipe, first steam the ragi vermicelli in a rice cooker or a steamer for about 5-6 minutes or till it is cooked but firm', 'keep aside this aside till later use', \"you can add a few drops of oil and mix it so that they don't stick to each other\", 'place a kadai on the heat, add the ghee or oil to it and when warm add hing and allow it to sizzle for 30 seconds', 'then follow it up with mustard seeds, urad dal and curry leaves, and allow them to crackle', 'saute for 1 minute or so till the urad dal is slightly browned', 'then, add onions and fry till translucent and soft', 'next, add the green chillies along with par boiled carrots and peas', 'sprinkle some salt and cook for 2-3 minutes or until the vegetables are semi cooked', 'then, add the steamed ragi vermicelli toss it together so the vegetables are all well combined', 'switch off the heat, take the vermicelli out into a serving dish and to with lemon juice', 'mix well and serve along with coconut chutney and a hot cup of coffee or tea for a wholesome breakfast']\n",
      "\n",
      "['to begin making gongura chicken curry recipe first prep all the ingredients and keep them aside', 'in a small pan, dry roast the methi seeds, coriander seeds, fennel seeds and red chillies for about 3 to 4 minutes on medium heat, until you notice the seeds crackling', 'once done, turn off the heat and allow it to cool a bit and blend it into a smooth powder', 'heat oil in a pressure cooker over medium heat; add the chopped onions, ginger, garlic and green chillies and saute until the onions are lightly browned and tender', 'add the tomatoes, and saute until the tomatoes become soft and mushy', 'once done add the chicken, the garam masala and turmeric powder', 'add 1/4 cup of water and pressure cook the chicken for 3 to 4 whistles and turn off the heat', 'once done, allow the pressure to release naturally', 'make sure there are no stems when you pick the gongura leaves', 'wash and chop the gongura leaves and keep aside', 'in another pan,add some oil along garlic and saute the chopped gongura leaves along with a little salt and the ground masala', 'the gongura leaves will wilt almost instantly', 'saute the gongura in the masala for about 3 to 4 minutes until it becomes like a mushy paste', 'once done, add the cooked chicken curry into the gongura masala and saute on high heat for another 2 minutes and turn off the heat', 'check the salt and spices and adjust according to taste', 'transfer the gongura chicken curry to a serving bowl and serve hot', 'serve gongura chicken with ghee rice recipe | neychoru , tomato onion cucumber raita recipe and a semiya payasam for a delicious weekend lunch']\n",
      "\n",
      "['to make andhra style alam pachadi, first heat oil in a pan', 'add lentils and cook till it turns brown', 'now add dry red chillies, coriander seeds, onion, ginger and cook till the onion becomes soft', 'after the onion is cooked, add tomatoes and cook till the tomatoes become soft', 'turn off the gas and allow it to cool', 'after it cools down, put it in a mixer grinder and make a paste', 'for tempering, heat the oil in a small pan', 'add mustard seeds and let it cook for 10 seconds', 'now add curry leaves, asafoetida and let it cook for 10 seconds', 'add it to the chutney and mix', 'serve andhra style alam pachadi with ghee roast dosa and kirai sambar for breakfast']\n",
      "\n",
      "['to begin making pudina khara pongal recipe, wash and soak the rice and dal for 20 minutes', 'make a paste of mint/pudina, coriander, green chilli and ginger using a mixer grinder and keep aside', 'now, heat oil in the pressure cooker, add the cumin seeds and let it crackle', 'add the soaked rice and dal and fry for a few minutes', 'add the mint coriander paste and saute for a minute', 'add 5 cups of water, season with salt and pressure cook for 4 to 5 whistles and keep aside', 'in the mean prepare the tadka by heating ghee in a small tadka pan', 'add in the cumin seeds, peppercorns and let it crackle', 'add the cashew halves and fry till they turn golden', 'add the curry leaves and asafoetida and turn off the flame', 'once the pressure has been released, open the lid and mash the pongal mixture', 'add in the tadka over it and serve the pudina khara pongal recipe along with kathirikai gothsu recipe (spicy and tangy eggplant curry)and south indian coconut chutney for a relaxed weekend breakfast']\n",
      "\n",
      "['to begin making the udupi style ash gourd coconut curry recipe  cook the ash gourd in the pressure cooker with little water, turmeric powder and salt for just 1 whistle', 'release the pressure naturally', 'soak the tamarind ball in hot water for about 15 minutes, and squeeze and keep the water', 'then dry roast the spices and other ingredients for the ground paste in a pan except the coconut', 'then grind it along with coconut to a smooth paste', 'in same pressure cooker which has the ash gourd add the paste and little water and give it stir', 'keep the udupi ash gourd coconut curry on the medium heat, adjust the seasoning and texture if required', 'once done transfer it in a bowl', 'for the seasoning, heat oil in a small skillet and add mustard seeds and let it crackle', 'after the mustard seeds have crackled add the curry leaves and red chillies', 'tun off the heat after the red chillies have darkened and add it on top of the udupi style ash gourd coconut curry and serve', 'serve the udupi style ash gourd coconut curry recipe along with steamed rice, elai vadam  and pisarna manga for lunch']\n",
      "\n",
      "['to begin making the black bean burrito recipe, pick the coriander leaves and set aside, then finely slice the stalks', 'keep it aside', 'heat 1 tablespoon of oil in a heavy bottomed pan over a medium heat, add the chopped garlic and coriander stalks and fry till they become brown', 'add the cooked beans, mix it well and cook for a minute', 'add the rice and cook for further 5 minutes', 'remove from the heat and add coriander leaves that were kept aside', 'for salsa, toss together tomatoes, onions, spring onions, lime juice, coriander leaves, mix well using a fork and season to taste', 'heat the tortillas on a griddle pan till it softens', 'lay it on a plate', 'layer spinach leaves over the  tortilla', 'spoon one-quarter of the fried rice and beans, top with a generous spoonful of salsa', 'grate over some cheese and add a spoon of yoghurt', 'wrap up the burrito, then tuck it in', 'repeat with the remaining ingredients to make the rest of the burritos', 'serve black bean burrito with a side of chips and a healthy green apple, radish & pepper salad  and a glass of carrot pineapple orange juice recipe to make a delicious lunch or dinner']\n",
      "\n",
      "['to prepare spicy crunchy masala idli recipe, heat a tablespoon of oil in a heavy bottomed pan and stir fry them until they are lightly crisp', 'transfer to a bowl and keep aside', 'in 2 teaspoons of oil the same pan; add in the onions, capsicum, green chillies and saute them on medium heat until tender', 'this takes about 5 to 7 minutes', 'add in the chopped tomatoes, salt, pepper, turmeric powder, chilli powder and stir well', 'saute until the tomatoes turn soft', \"finally stir in the tomato ketchup, the fried idli's the chopped coriander and mint leaves\", 'stir fry on high heat until well combined just for about a minute', 'turn off the heat and transfer the spicy crunchy masala idli recipe to a serving bowl and serve hot topped with more date chutney or tomato ketchup']\n",
      "\n",
      "['to make cauliflower leaf chutney, first of all take out the leaf inside the cabbage and wash it well', 'dry and cut it well', 'heat the oil in a pan', 'add urad dal, dry red chilli and cook till the dal turns golden', 'keep it aside', 'add some more oil to the same pan', 'add cabbage leaves, salt and cook till the leaves become soft', 'now add tomatoes, garlic and mix well', 'cook until tomatoes are soft', 'after cooking, turn off the gas and allow this mixture to cool', 'pour it into a mixer grinder with the dal mixture and grind it', 'add some water and salt and grind it once more', 'for tempering, add mustard seeds to a tempering pan', 'after 10 seconds, add cumin, asafoetida and curry leaves', 'after 15 seconds, add it to the chutney and mix', 'serve cabbage leaves chutney with vegetable sambar and rice for dinner']\n",
      "\n",
      "['to begin making the homemade baked beans recipe, we first have to soak the beans overnight for about 8 hours in water', 'we also have to make the cooked tomato puree', 'click here to see the recipe of how to make tomato puree at home', 'once the beans are soaked well, our next step is to cook them', 'i like using the pressure cooker method to cook the beans', 'place the beans in the pressure, place the weight on, cover the pan and cook it along with 2-1/2 cups of water', 'after you heat 4 to 5 whistles, turn the heat to low and cook for another 15 minutes', 'turn off the heat and allow the pressure cooker to release its pressure naturally', 'this would take another 10 minutes', 'the beans continue to cook under the pressure even when it is turned off', 'once the pressure is released, open the cooker and drain out the excess liquids', 'you store this liquid and use it in the vegetable stock or risotto', 'once the beans are cooked, our next step is to spice it up to make the baked beans', 'heat oil in a sauce pan on medium heat; add in the onions and garlic and give it a light sauté until the onions are tender', 'add the tomatoes, honey and the spices and give it a stir', 'add in the cooked drained beans into the tomato gravy', 'stir fry the beans until the beans get well coated with the tomatoes', 'cover the pan, turn the heat to low and simmer the beans for about 30 minutes until you noticed the beans are well coated with the spices and tomatoes', 'check the salt and seasoning levels and adjust to suit your taste', 'you can optionally garnish the homemade baked beans with coriander leaves and serve it along with toast, or potato cakes recipe']\n",
      "\n",
      "['to begin making the veg chili cheese burgers recipe, we will first pressure cook the potatoes and keep it ready', 'cook them for 5 whistles in a pressure cooker', 'once done allow the pressure to release naturally and peel off the skin', 'add them into a bowl and mash it using a potato masher', 'add onions, salt and red chilli powder and bind it together', 'shape them into medium sized cutlets and leave it in the fridge to rest until you move on to make the sauce', 'to make the sauce, heat a flat skillet with oil on medium heat, add garlic and allow it soften for few seconds', 'add chopped onions and saute until they turn golden brown', 'add chopped capsicum and saute for a few minutes', 'add in chopped tomatoes and sprinkle with a bit of salt and saute till they turn mushy', 'also add in the tomato puree and all the seasonings like, red chilli powder, cumin powder, red chilli flakes, dried oregano, tobacco sauce and honey', 'keep sautéing until the tomatoes are cooked, you will notice the tomatoes will change color and the raw smell goes away', 'at the end add the soya granules and salt to taste', 'add about 1/4 cup of water and allow it to boil for 4-6 minutes minutes', 'let the sauce be little gravish', 'switch off the heat, heat a flat skillet for the patties to shallow fry them', 'take the patties out of the fridge', 'beat an egg into a bowl and also keep the bread crumbs ready over a plate', 'carefully dip the patties into the egg and place them over the bread crumbs and coat them well on either side dust off the excess bread crumbs', 'place the crumb dipped patties on to the hot skillet and drizzle some oil on top', 'cook on either side for atleast 10 minutes', 'till you can see brown color crispy layer on top', 'do the same for the rest of the patties and set aside', 'once done, add a tablespoon of butter on the same skillet and cut the burger bun in to half horizontally and toast them on the tawa', 'toast till the burger buns are golden brown and crisp', 'take a cooked patty, spoon two tablespoon of the sauce on top, place a cheese slice over it and microwave the patty for just 10 seconds until you see the cheese melt', 'take the patty out, spread some of the sauce on the base of the burger bun and place the patty with cheese on top and add few slices of jalapeno and close it with the burger top and serve', 'do the same for the rest of the burger', 'serve the veg chili cheese burgers recipe along with baby potato stir fry and mango iced tea recipe to make it a complete meal']\n",
      "\n",
      "['to begin making the andhra style ingavu chaaru recipe pressure cook the tamarind water with toor dal, hing and salt for about 4 whistles', 'turn off the flame and allow the pressure to release naturally', 'open the lif of the cooker and thoroughly mash the dal and bring the whole mixture together by mixing it well', 'to temper, heat a kadai with oil, add mustard seeds, cumin seeds, fenugreek seeds and allow it to crackle', 'add curry leaves, pinch of hing and leave it for 2 seconds and pour it over the rasam', 'serve the andhra style ingavu chaaru recipe along with steamed rice and gorikayi palya recipe  as a comforting meal during your week day']\n",
      "\n",
      "['to begin making the aar macher jhol recipe, firstly marinate the fish with salt and turmeric powder', 'heat oil in a wok and shallow fry the fish on both sides till they turn crispy and golden', 'remove and keep aside', 'into the same wok, add bay leaves and cumin seeds', 'fry these for 1 minute and add the chopped tomatoes', 'sauté well', 'into this bengali style fish gravy, add turmeric powder, cumin powder, coriander powder and enough salt and sauté till tomatoes soften', 'add the ginger paste and coarsely crushed green chilies', 'sauté till raw smell goes away and oil floats', 'now add the water and allow the fish gravy to come to a boil', 'once the gravy starts boiling, add the fried fish and cook covered till fish has cooked through', '[this should take about 6 to 8 minutes approximately]once the fish has cooked through, add the slit green chilies, adjust salt if necessary and add sugar to taste', 'allow it to cook for 5 minutes', 'garnish this bengali fish curry with coriander leaves and serve hot', 'serve piping hot aar macher jhol – fish in spicy tomato gravy along with steamed rice and begun bhaja for a weekday lunch or dinner', 'enjoy!']\n",
      "\n",
      "['to begin with saunf aloo, heat oil in a pressure cooker', 'add turmeric powder, salt, red chilli powder and crushed fennel seeds till the fennel seeds turns golden in colour', 'now add the potatoes and mix it properly with the masala', 'sauce it for 2-3 minutes and then add enough water to cover the potatoes in the cooker', 'switch the heat after two whistles and once the pressure is released, open the lid of the pressure cooker', 'the next step is to add the cream or milk and mash a few potatoes to get a thicker consistency', 'let it cook for 5 more minutes or until the cooker releases 2 more whistles', 'garnish the saunf aloo with some roasted saunf and chopped coriander', 'serve sauf aloo along with amritsari dal and whole wheat lachha paratha for a weekday meal']\n",
      "\n",
      "['to make south indian onion chutney, first of all chop the onion and keep it aside', 'now heat 1 teaspoon of oil in the pan', 'add cumin seeds, dry red chillies and let it cook for 10 seconds', 'now add urad dal in it and let it cook till it becomes golden', 'turn off the gas and drain in a bowl', 'add another spoon of oil to the same pan', 'add onions and let it cook for 4 to 5 minutes', 'turn off the gas and let it cool down', 'now put urad dal, cumin and dry red chillies in the mixer grinder and grind them', 'add cooked onions, tamarind and jaggery', 'add some water and grind it', 'now for the tempering, heat the oil in a small pan', 'add mustard seeds and curry leaves', 'after 10 seconds, add it to the chutney and mix', 'serve south indian onion chutney with masala dosa or ghee dosa for a tsunag breakfast']\n",
      "\n",
      "['to begin making the hariyali egg curry recipe, we will first make the hariyali masala', 'into the mixer grinder (medium jar), add the coriander leaves mint leaves, green chillies and 1/2 cup water', 'blend all of them together to make a smooth paste and keep aside', 'into the small jar of the mixer grinder, add the onions, ginger and garlic and grind to make a paste', 'heat 1 tablespoon oil in a kadai over medium heat, add the bay leaf (tej patta), cloves, cinnamon stick and roast for a few seconds', 'add the onion ginger garlic paste', 'saute for 4 to 5 minutes until raw onion smell goes away', 'once the onions are roasted, add garam masala powder, coriander powder and saute for a few seconds', 'add the hariyali coriander mint mixture, the fresh cream and the 4 boiled eggs', 'add water if required to adjust the consistency of the hariyali egg curry', 'cover & simmer the hariyali egg curry for 5 minutes', 'check the salt and spices and adjust to according to your taste and transfer the hariyali egg curry into a serving bowl', 'serve the hariyali egg curry along with malabar parotta or  whole wheat lachha paratha and burani raita for a weeknight dinner']\n",
      "\n",
      "['to prepare gourd raita, prepare all the ingredients first', 'add grated gourd, cucumber, curd, green chillies, salt, cumin powder and coriander in a large bowl', 'mix well and your raita is ready', 'serve gourd raita with garlic dal, gourd elder greens and phulka for dinner']\n",
      "\n",
      "['to begin making the homemade tater tots recipe, scrub potatoes thoroughly and wash them until clean', 'peel the skin of the potatoes and we will not parboil the potatoes in hot water', 'in a large saucepan, add the potatoes and boil it brisk for about 5 to 7 minutes', 'after 5 to 7 minutes the potatoes would have boiled through slightly, but firm', 'once boiled, water the potatoes until cold water and pat dry', 'this process will cool the potatoes a little', 'once slightly cooled, grate the potatoes into a large mixing bowl', 'add the garlic powder, onion powder, dried oregano, red chili flakes, fresh coriander leaves, salt to taste, all purpose flour, rice flour and mix well to form a dough like consistency', 'the next step is to shape the potatoes and deep fry the tater tots', 'grease your fingers and palm with oil and shape the potatoes into bite size ovals (cylinders)', 'heat oil in a pan for deep frying over medium heat', 'carefully drop each one of the shaped tater tots in oil and fry them on medium heat until golden brown on all sides', 'once done, remove the tater tots from the oil and place it on kitchen paper towels to absorb the excess oil', 'serve the tater tots with tomato ketchup or a sichuan style bird eye chili sauce as a tea time snack or as an appetizer for parties']\n",
      "\n",
      "['to make chettinad vegetable casserole, first cut all the vegetables', 'soak rice for 30 minutes', 'heat a pan on gas', 'add long, cinnamon, fennel, whole black pepper, coriander seeds, and roast for 2 to 3 minutes', 'turn off the gas and allow this spice mixture to cool', 'after it cools down, put it in a blender and grind it', 'keep it aside', 'now heat ghee in a pan', 'add ginger, garlic, onion, green chilies and cook till the onion becomes soft', 'after the onion becomes soft, add carrots, green beans, potatoes, bay leaves, turmeric powder, red chilli powder, ground spices and mix well', 'after 2 minutes, add rice, salt, 2 cups of water and let it boil', 'after boiling, reduce the heat, cover the pan and cook until the rice is cooked', 'if the rice remains raw, then add some more water and cook it', 'after cooking, turn off the gas, cover and keep it aside for 10 minutes', 'serve', 'serve chettinad vegetable casserole recipe along with bundi raita and baked papad for dinner']\n",
      "\n",
      "['to make garlic amla chutney recipe, first wash the amla, cut and remove the seeds', 'now wash the mint, green coriander and keep it aside', 'now heat oil in a pan', 'add small onion, garlic and cook the onion after it becomes soft', 'now add amla, mint, green coriander and cook it for 2 minutes', 'turn off the gas', 'allow this mixture to cool', 'pour this mixture in the mixer grinder with salt, a little water and make a paste', 'keep it separately', 'for tempering, now heat oil in a tempering pan', 'add the mustard seeds, chana dal, urad dal, curry leaves, cashews and cook until cashew is light brown', 'add this tempering to the chutney and mix', 'mix well and serve', 'serve garlic amla chutney recipe with ghee roast dosa and filter coffee for breakfast']\n",
      "\n",
      "['to begin making the maharashtrian kakdi thalipeeth recipe, in a large mixing bowl add all the 3 flours together and mix them', 'add all the remaining ingredients like the grated cucumber, turmeric powder, cumin powder, coriander powder, red chili powder, green chillies, coriander leaves, garlic and salt to taste', 'mix everything well and add a little water at a time to make a smooth and firm dough of the kakdi thalipeeth', 'the cucumber will release water when it gets combined with salt, so take care to add little water at a time', 'the dough will be slightly sticky to handle', 'allow the dough to rest for 5 minutes', 'divide the dough into 4 portions', 'preheat the skillet on medium heat', 'keep water in a separate bowl to wet fingers and to wet a muslin cloth', 'spread a wet muslin cloth on a smooth counter top', 'take a portion of the kakdi thalipeeth mixture and pat it on the wet cloth to about 4 inches in diameter', 'try not to make it too thin as it can break while flipping it on the skillet', 'carefully lift the cloth along with the patted mixture and flip the thalipeeth over on the skillet', 'drizzle a teaspoon of oil or ghee around the thalipeeth and cook on medium heat', 'after about 3 minutes, you will be able to flip the kakdi thalipeeth over to the other side', 'allow each side to cook on medium heat for about 3-4 minutes, until the thalipeeth are slightly crisp and browned', 'remove from heat and place on a serving platter', 'continue the same procedure with the other portions of the kakdi thalipeeth dough', 'serve the maharashtrian kakdi thalipeeth along with homemade yogurt or lahsun chutney for breakfast']\n",
      "\n",
      "['to begin making subway sandwich recipe with roasted beetroot, we will first cook the beets', 'heat a teaspoon of oil in a wok; add the grated beets and garlic, sprinkle some salt and stir fry on low to medium heat until the beets are softened and cooked', 'once you notice the beetroot is cooked through, turn off the heat and allow it to cool completely', 'once the beetroot has cooled completely, add it to a large mixing bowl', 'to this add in the greek yogurt/ hung curd, coriander leaves, spring onions along with salt and pepper to taste', 'give the mixture a good stir', 'keep this aside', 'in the next step toast the subway bread or the foot long along with butter in a skillet until lightly warmed and crisp', 'you can use butter or olive oil for toasting', 'make sure you cut them into half and then toast', 'once once, the next step is to layer the subway sandwich with roasted beetroot', 'place the cut and toasted subway bread on a flat surface', 'spread the beetroot mixture on one half of the sandwich, scatter the sliced tomatoes, the green moong sprouts and drizzle some tabasco sauce for a punch', 'now cover the subway sandwich with roasted beetroot by pressing it down with the other half and serve', 'serve the subway sandwich recipe with roasted beetroot for a wholesome weeknight dinner or even as an after school snack for your kids along with a apple almond date smoothie', 'you can also pack this sandwich into an office lunchbox']\n",
      "\n",
      "['to begin making murungakkai poriyal recipe, wash the drumsticks well & peel them by removing the tough green part', 'cut them in 2 inches length', 'take about glass of water in a kadhi, bring it to a boil, add these drumsticks with salt, turmeric powder (optional) & lightly steam them for 5-8 minutes', 'be careful not to overcook the drumsticks', 'it should be tender but not mushy as in sambar or avial', 'drain the water, keep the steamed drumsticks aside to cool slightly', 'grate the coconut, add the green chillies & grind them well in a mixer', 'in the kadai, add coconut oil, once hot, add the mustard seeds, let it crackle', 'then add the dry red chillies, curry leaves & add the steamed drumsticks', 'mix everything well & let it cook for a minute', 'add the grated coconut & give it one last stir', 'serve murungakkai poriyal recipe along with kerala avial recipe, steamed rice recipe and malabar style dates pickle recipe for a complete meal']\n",
      "\n",
      "['to begin making kesar mango lassi recipe, soak one pinch kesar in 2 tablespoons warm milk and keep it aside for few minutes', 'get prep with other ingredients as well', 'take out the pulp from the mangoes and keep aside', 'in a blender, add mango pulp, curd/yogurt, cold milk and blend till combined', 'once it is done, add chopped almonds (2 tablespoons), honey or sugar, some ice cubes and blend to make the kesar mango lassi recipe', 'kesar mango lassi recipe is ready to serve, garnish it with the rest of chopped almonds and saffron and serve with bhel puri recipe or asian watermelon salad recipe during evening']\n",
      "\n",
      "['to make the chettinad sweet paniyaram recipe, firstly mix and mix idli dosa mixture, rice rava, jaggery, coconut, salt, elaichi powder, some water in a mixing bowl', 'keep aside for 5 minutes and mix again', 'heat the paniyaram pan and add some oil to each hole', 'after heating, add the mixture to it and cover it', 'cook on low heat', 'once cooked from one side, flip it and cook from the other side', 'cook on both sides until golden', 'remove from pan and serve', 'serve the chettinad sweet paniyaram recipe with masala tea or filter coffee for an evening snack']\n",
      "\n",
      "['to begin making the mini dal samosa gravy recipe, we need to first prepare the gravy', 'in a heavy bottomed pan, add 1 tablespoon of cooking oil and heat it on a medium flame', 'once the oil is hot, add cardamom, black pepper, cloves, cinnamon, javitri and saute for few seconds', 'next add cashew nuts, green chilli, ginger, chopped onion and tomatoes', 'mix well and add 1/2 cup water and salt (as per your taste)cover the pan and boil this mixture until the onions and tomato become soft', 'turn off the flame and let this mixture cool', 'once the mixture is cool, add it to a mixer and blend until smooth', 'strain the paste to remove any big chunk of ingredients (optional to give fineness to gravy)', 'keep aside', 'in the same heavy bottomed pan, heat one tablespoons of oil and add bay leaf, black cardamom', 'once the spices release the aromas add in the ground tomato and onion mixture, add kashmiri red chilli powder, turmeric powder, coriander powder, garam masala and the crushed kasuri methi', 'mix well and cook for 10 mins at low flame', 'add fresh cream and sugar and stir it well into the gravy', 'simmer for a few more minutes and add the mini samosas in the gravy', 'turn off the flame', 'make sure to add the mini dal samosas to the gravy only one hour before serving, else the samosa will get completely soggy', 'to make mini dal samosas at home follow moong dal mini samosas', 'serve mini dal samosa curry recipe along with hot phulka, tawa paratha or jeera rice and kachumber salad recipe with cucumber, onion & tomatoes for a sumptuous sunday meal']\n",
      "\n",
      "['to prepare spinach garlic bruschetta recipe with red bell pepper sauce, prepare garlic flavoured butter first', 'mix the garlic extract through cutting and folding method into butter at room temperature until well mixed', 'slice the bread to about an inch thick, apply garlic butter, and grill them for 6-10 minutes in a preheated oven at 180 degrees c', \"you can even roast it on the stove if you don't have an oven\", 'blanch spinach leaves in the microwave for 4-5 minutes and chop roughly', 'meanwhile, red bell pepper sauce can be prepared', 'in pan, mix chopped bell peppers, onions, salt, pepper roasted tomato sauce and italian seasoning with butter and cook till mushy', 'add fresh cream at the till and saute till thick and creamy', 'set the red bell pepper sauce aside to cool', 'spread the blanched spinach on the grilled baguette bread, spoon the chopped tomatoes on it, add cheese and bake again for 5 minutes in the pre-heated oven at 180 degrees c', 'once the sauce is cooled, serve spinach garlic bruschetta recipe with freshly prepared red bell pepper sauce recipe', 'couple it with roasted cherry tomato soup recipe or your choice of soup and salad like potato and cucumber salad recipe for light dinner']\n",
      "\n",
      "['to begin making the dal pakwan chaat, we will first make the pakwan and keep it ready', 'sift both the flours together', 'add ajwain, cumin, salt and ghee and mix all together into the flour', 'knead the flour into a smooth dough adding water little at a time', 'preheat the oil for deep frying', 'divide the pakwan dough into equal lemon size portions', 'dust the surface with flour and roll the pakwan dough into a small disc', 'use a fork and mark impressions on the rolled pakwan', 'pierce from both sides, this will prevent the pakwan from puffing up', 'place the pakwans into the preheated oil and deep fry on low to medium heat until golden brown and crisp on both sides', 'transfer the fried pakwan on a kitchen paper towels to drain the excess oil and store in airtight containers', 'next step is to make the dal for the pakwan chaat', 'wash and soak chana dal in water overnight or for at least 4 hours', 'once soaked, drain the water and cook the chana dal in 2 cups of water in the pressure cooker for a couple of whistles along with salt, sugar, turmeric powder, garam masala and amchur powder', 'after a 4 to 5 whistles, turn the heat to low and simmer for another 5 minutes and turn off the heat', 'allow the pressure to release naturally', 'the grains of the chana dal should be soft and yet separate', 'open the lid once the pressure releases completely', 'in a small tadka pan, heat ghee over medium heat', 'add the cumin and green chilies', 'saute for a few seconds, add the curry leaves and asafoetida and turn off the heat', 'pour the seasoning over the sindhi chana dal and give it a stir', 'to make the mini dal pakwan chaatwhen you are ready to serve, place the pakwan (the crisp puri) on serving platters', 'spoon a small portion of the dal over each of the pakwan (crisp puri)', 'drizzle some date chutney and green chutney and finally top with with some chopped onions and pomegranates, sev and serve', 'these mini dal pakwan chaat make great appetizers at parties, you can even serve it this was for a delicious weekend breakfast as well', 'serve these mini dal pakwan chaat as an evening snack or as an appetizer for parties along with pav bhaji, dahi vada, pani puri and finally end it with a paneer kheer as a dessert']\n",
      "\n",
      "['to begin making the asian style sweet & spicy green beans recipe, firstly add the green beans into a pressure cooker with salt to taste and 2 tablespoons of water', 'pressure cook the beans for one whistle and release the pressure immediately and keep aside', 'we release the pressure immediately, so the greens remain green and fresh,our next step is to stir fry the green beans in asian sauces', 'preheat heat oil in a pan over medium heat; once the oil is hot add the cloves and saute for a few seconds until the aromas come through', 'at this stage, add the soy sauce, thai sweet chilli sauce, rice wine vinegar, and lemon juice and stir to combine', 'add the cooked beans and roasted peanuts to the above sauce mixture', 'stir fry on high heat for 3 to 4 minutes till the beans and the peanuts are well coated with the sweet and spicy sauce', 'once done, check the salt and spices and adjust to taste accordingly', 'once done, turn off the heat and transfer the asian style sweet & spicy green beans to a serving bowl and serve hot', 'serve asian style sweet & spicy green beans recipe with steaming hot thai jasmine sticky rice and thai pineapple vegetarian curry for a delicious meal']\n",
      "\n",
      "['to begin making the chinese darsaan recipe with ice cream, we will first make the dough for the honey tossed flat noodles', 'to make the flat noodles in a mixing bowl, combine the all purpose flour, with the baking powder, and oil, using just enough water, make a smooth soft dough', 'once the dough is ready, divide into equal portions of lemon sized balls', 'dust each of those dough balls with flour and roll out like a roti using a rolling pin', 'using a paring knife, cut long strips of the dough measuring 1 centimeter size, resembling flat noodles', 'heat a saucepan with water on medium flame, along with a teaspoon of oil and bring to a boil', 'once the water has come to a rolling boil, reduce the flame and gently put the noodle strips in', 'boil for about 2-3 minutes', \"once the noodles, tend to fluff up, remove from the water, using a slotted spoon and put it into a strainer that's resting on a bowl, to hold the excess water\", 'do this for all the strips of dough and set aside', \"heat a kadai with oil on medium-high heat, gradually add in the boiled noodles, reduce the flame to medium-low and fry ensuring the noodles are cooked and it doesn't get the brown colour\", 'we need our noodles to be crispy, yet be pale in colour and not deep brown', 'remove the noodles from the kadai and place it on an absorbent paper to drain out the excess oil', 'allow it to cool', 'to make the honey syrup in a small saucepan, combine the sugar, water and honey and bring to a single boil on medium-high flame', 'turn off the flame, add the roasted sesame seeds and give it a good mix', 'allow this honey syrup to cool down only until it is warm, toss it in the freshly fried noodles until well coated', 'this is the darsaan ! serve the darsaan with a scoop of vanilla ice cream', 'serve chinese darsaan recipe with ice cream as dessert after a meal of dragon chicken sizzler recipe or sweet and sour vegetable recipe with tofu & brown rice']\n",
      "\n",
      "['to make the sundakai methi sambar recipe, first take out the stem of the sundakai and cut it', 'clean and wash the fenugreek and keep it separately', 'mix tamarind with water in a bowl', 'now heat oil in a pan', 'add asafetida to it and cook it for 10 seconds', 'after 10 seconds, add mustard seeds, cumin seeds, dry red chilies and cook till the mustard seeds crackle', 'now add the sundkai and cook for 3 to 4 minutes', 'add curry leaves and mix', 'now add fenugreek and cook till the fenugreek becomes soft', 'after cooking, add tomatoes, turmeric powder, sambar powder, coriander powder, salt, mix and cook for 1 minute', 'after 1 minute add tamarind water, remaining water and let it boil', 'after boiling for 8 to 10 minutes, add the dal to it and mix', 'cook until the sambar becomes thick and then garnish with green coriander', 'serve sundkai methi sambar recipe along with rice, beetroot thoran and papad for dinner']\n",
      "\n",
      "['to begin making the cabbage, spinach, pomegranate slaw with lemon dressing recipe, we will first whisk in the dressing in a bowl', 'combine lemon juice, olive oil, salt and pepper well and keep aside', 'using a fork emulsify the lemon and oil together and add in your fresh vegetables and fruits', 'mix well, check for seasonings, if your require anything more you can add and mix again', 'serve the cabbage, spinach, pomegranate slaw with lemon dressing recipe along with baked chicken or a grilled vegetable sandwich recipe with herb goat cheese with a glass of freshly made carrot pineapple orange juice recipe']\n",
      "\n",
      "['to begin making the matar samosa recipe first, mix together half a teaspoon of salt into the flour', 'rub ghee or vegetable shortening into the flour mixture, with your fingers until it resembles loose bread crumbs', 'gradually add water, slowly, and knead to make a soft but firm dough', 'roll the dough into a ball, cover with a moist muslin cloth and keep aside', 'the next step is to make the filling', 'in a kadai or heavy bottomed pan, warm the ghee, add the jeera and allow it to crackle and tip in the chilli paste', 'saute these together for a minute', 'add peas followed by all the other spices and cook till the pea mixture becomes dry and all the water has dried up', 'season with salt and cook again for 2-3 minutes', 'set the peas mixture aside to cool down so it is easier to handle when shaping the samosas', 'make a flour paste, by combining the flour and water', 'to begin making the samosa cases, divide the dough into small balls and roll them into thin circles', 'cut each rolled-out circle into two halves by running your knife down the center, so you have 2 semi-circles for each disc', 'roll the semi-circles into cones and using a teaspoon fill them with the peas mixture', 'dab the flour paste along the edges of the open side of the cone, press the two edges together and seal', 'arrange the matar samosas in a platter and cover them with a moist muslin cloth', 'heat oil for deep frying in a kadai on medium heat', 'deep fry the matar samosas in hot oil till they are golden brown', 'try not to fry too many together as it will crowd the kadai and alter the cooking time', 'remove the matar samosa from the kadai using a slotted spoon and drain them on kitchen paper', 'matar samosa  can be served with a dollop of dhaniya pudina chutney and khajoor imli chutney or tomato ketchup, along with masala chai in the evening']\n",
      "\n",
      "['to begin with the eggless chocolate cupcakes with raspberry and cream cheese frosting recipe first, sieve flour, cocoa powder, baking powder, baking soda and keep aside', 'take a bowl and whisk butter for 5 minutes, make sure that it is light and fluffy', 'then add vegetable oil and sugar and whisk for another 3 minutes', 'further, add vanilla extract and milk (half) and whisk', 'in double boiling method melt the dark chocolate and now, add in rounds the dry ingredients and fold them nicely', 'keep adding rest milk as required', 'preheat the oven at 200 degree celsius for 10 min', 'pour the batter into the cup cake mould', 'i used silicon mould) and bake for 15 minutes at 150 degree celsius', 'let it cool properly before frosting else the frosting will melt', 'for the frosting:whisk the soft cream cheese till you get pointed peaks', 'whisk in low pace to get peaks', 'as you whisk add sugar and vanilla extract and mix well', 'grind few raspberries and add in the cream cheese mixture', 'fill the icing in the piping bag with your favourite nozzle and do the icing on top of the cupcake', 'after icing it with cream cheese place a raspberry on it and serve it', 'serve the eggless chocolate cupcakes with raspberry and cream cheese frosting recipe for an evening snack or as a dessert in a party']\n",
      "\n",
      "['to begin making the kerala palada pradhaman recipe, first slow boil milk and 1/2 cup sugar on low flame until it reduces lesser than half the quantity', 'i used pressure cooker with weight on for about 60 minutes and slow cooked/boiled the milk', 'the milk turned slightly pink in colour by doing this', 'cook ada as per packet instructions', 'once cooked, drain the ada and rinse it in cold water to stop cooking', 'heat ghee in a pan', 'add 1/4 cup sugar and saute', 'wait till sugar melts and starts to turn slightly brown', 'add cooked ada and saute for about 2 minutes', 'add about 1 to 1-1/2 cup boiled milk', 'mix well', 'if it need more milk add it', 'sprinkle cardamom powder, mix well', 'serve hot or cold', 'either ways it tastes delicious', 'serve kerala palada pradhaman after your meal of keerai sambar, beetroot thoran and steamed rice']\n",
      "\n",
      "['to begin making the tindora sambharo recipe - instant tendli pickle, combine all the ingredients including the carrot and capsicum pieces in a bowl', 'stir well until all the ingredients are well combined', 'store the tindora sambharo recipe in the refrigerator and use as and when required', 'serve tindora sambharo recipe with dals, parathas or rice', 'note: gingely oil/sesame oil or mustard oil can be used for better taste']\n",
      "\n",
      "['to begin making the chettinad style chicken roast recipe, thoroughly wash and clean the chicken leg', 'keep it aside', 'heat oil in a heavy bottomed pan, on medium flame', 'add onions, coconut, ginger and garlic and cook till the onions become soft and the coconut turn light brown in colour', 'turn off the flame and grind to a coarse paste with a little water in a mixer grinder', 'the next step is to marinate the chicken', 'in a mixing bowl, add the onion coconut paste, yogurt, turmeric powder and chicken legs', 'mix everything well and ensure that the chicken is properly quoted with the masala', 'keep it aside for 30 minutes', 'for the chettinad spice mixheat a heavy bottomed pan', 'add chettinad spice mix ingredients -  includes cumin seeds, coriander seeds, fenugreek seeds, kalonji, black peppercorn, dry red chillies, fennel seeds, cinnamon stick, cloves, cardamom and mustard seeds', 'dry roast them for about 2 minutes', 'once done, let it cool down a bit', 'now, add thes spices into a mixer grinder and grind it into a powder', 'heat ghee in the same pan and add this chettinad spice mix into the ghee', 'after 30 seconds, add the chicken along with all the marinade', 'mix everything well, add the tamarind pulp, jaggery and 1/4 cup of water', 'cover the pan and cook for about 8 to 10 minutes or till the chicken is 3/4th done', 'turn off flame', 'take out the chicken pieces seperatly and keep the masala aside', 'heat a grill pan on high heat, until smoking hot and place only the chicken leg on it', 'let this get a nice crispy skin by cooking it for about 5-7 minutes on each side', 'once done, turn off the heat and keep the chicken piece on a plate', 'the final step is to temper the chicken', 'to make the tempering, heat ghee in a tadka pan on medium flame', 'add mustard seeds, curry leaves and allow it to crackle', 'add the chopped garlic and fry till golden brown', 'turn off the flame', 'to assemble the chettinad style chicken roast recipe, in a serving plate, place the chicken leg, top it with the thick masala and garnish with the tadka', 'it is ready to be served', 'serve this chettinad style chicken roast recipe on its own as a party starter or with kerala style appam recipe (without yeast) or mangalorean neer dosa recipe (savory rice & coconut crepe) for a complete meal']\n",
      "\n",
      "['to begin making palakottai kuzhambu recipe  wash the jackfruits seeds thoroughly, make a slit on the outer layer and remove the outer white layer', 'in a pressure cooker, add the jackfruit seeds, add enough water to submerge the seeds,add a pinch of salt, and pressure cook it on a high heat for 3-4 whistles or till they are cooked al-dente', 'allow the pressure to release naturally', 'drain and reserve the jackfruit seed stock for later use', 'heat a kadai on medium flame, add oil once the oil is hot, add onions  and saute until almost translucent, for about 2-3 minutes', 'now add chopped tomatoes , cover and cook until the tomatoes are mushy', 'transfer the sauteed onion-tomatoes  and allow them to cool', 'transfer the onion-tomato mixture into a mixer-jar, add coriander seeds and grind well along with some of the jackfruit stock', 'we need a smooth paste', 'transfer to a bowl and set aside', 'yet again, in a mixer grinder, combine fresh grated coconut, red chillies and black pepper along with a little jackfruit seeds stock, and grind to a smooth paste', 'keep aside', 'heat a pan with oil, on medium heat, add mustard seeds and cumin seeds and curry leaves', 'once they splutter and sizzle, add in asafoetida and the crushed garlic cloves and saute till the garlic turn golden', 'once garlic turns to golden, add the ground onion tomato paste and saute well until it starts boiling', 'add the tamarind water to it and stir', 'boil for 2-3 minutes and cooked palakottai/jackfruit seeds', 'mix well', 'add required salt, turmeric powder, chilli powder, sambar powder', 'mix well and cook for 5 minutes in medium heat, such that the flavours seep into the jackfruit seeds', 'now add the ground coconut mixture  and stir well', 'cook on a low heat until it thickens', 'taste and adjust seasoning and consistency of the palakottai kuzhambu to your liking', 'turn off the flame', 'garnish with coriander leaves', 'serve palakottai kuzhambu recipe along with raw jackfruit poriyal recipe, steamed rice recipe and thayir semiya recipe for a hearty weekday lunch']\n",
      "\n",
      "['to start the brinjal bharta, first turn on the gas', 'place the brinjals on the heat and roast them all the way around', 'after 10 minutes you will see that the brinjal skin has started coming out', 'bake the eggplants and keep them aside till they become soft', 'after cooling, take out the skin of the brinjals and mash them with the help of a fork', 'keep it aside', 'now heat a pan', 'add cumin seeds and let it cook for 10 seconds', 'after 10 seconds, add ginger, onion and cook till the onion becomes soft', 'now add tomato, turmeric powder, green chilli, coriander powder, garam masala powder and red chili powder', 'mix all and let it cook for 3 minutes to 4 minutes', 'now add eggplant, butter and salt', 'mix, slow down the heat and let it cook for 10 minutes', 'turn off the gas and garnish with green coriander', 'serve the brinjal bharta with panchamel dal, spinach raita and phulka for dinner']\n",
      "\n",
      "['to begin making the kesar chai, add water into a saucepan, along with the saffron strands and allow it to come to a brisk boil', 'once it begins to boil; add the tea leaves', 'allow the tea leaves to simmer in the water for about a minute and turn off the heat', 'once you add the tea leaves, allow it to brew just a little to ensure the tea stays light and does not turn bitter', 'stir in the milk into the chai and allow it to rest for a few seconds', 'strain the kesar chai into the cups and serve', 'add a few more saffron strands to the top while serving, this will give a great look and also add to the taste and flavor of the chai', 'serve the kesar chai recipe along with samosa or vegetable bajji or pakora for an evening snack']\n",
      "\n",
      "['to make pacha manga pachadi recipe, first of all, put raw mango in a saucepan with tamarind water, jaggery and turmeric powder', 'turn on the gas and allow it to boil on medium heat', 'after the mango becomes soft, add sambar powder, salt and mix it', 'let it cook until it thickens', 'after it thickens, turn off the gas', 'now heat oil in a tempering pan', 'add the mustard seeds, curry leaves, asafoetida, dry red chillies and let it cook for 10 seconds', 'after this, add this tempering to the pachdi and mix', 'serve pacha manga pachadi recipe with keerai sambar, rice, chow chow thoran and masala tea']\n",
      "\n",
      "['to begin making the kodava mudi chekke barthad recipe, soak the chickpeas overnight and pressure cook them in 2 cups of water, salt to taste and cook for 6 to 8 whistles for about 20 to 25 minutes', 'once done allow the pressure to release naturally', 'drain the water out from the chickpeas', 'into the same cooker add the jackfruit seeds and 1 cup of water and pressure cook for at least 3 whistles', 'release the pressure, drain any excess water and leave the seeds to dry, once it has cool down, peel off the skin and chop them into small pieces', 'grind, dry red chillies, cumin seeds, coriander seeds, cloves, cinnamon, coconut, ginger and garlic to a coarse paste, you can add little water if needed', 'keep it aside', 'heat a kadai with oil, add mustard seeds, cumin seeds and splutter for few seconds', 'add curry leaves and allow it to crackle for few seconds', 'add in chopped tomatoes and saute till the tomatoes become slightly mushy', 'add in the ground coconut masala', 'sprinkle turmeric powder and salt and give it a mix', 'cook for 5 minutes and add in the boiled chickpeas and chopped jackfruit', 'pour in the tamarind water and sprinkle salt for seasonings and mix well', 'cook the mudi chekke barthad for another 2 minutes until all the masala has been absorbed', 'check the salt and spices and adjust to taste accordingly', 'once done turn off the heat and transfer the mudi chekke barthad to a serving bowl', 'serve the kodava mudi chekke barthad recipe along with palak tovve or palak dal  and jolada roti and raita to have it for your every lunch meals']\n",
      "\n",
      "['to begin making the whole wheat crepe recipe with herbed vegetables, first get all the ingredients ready', 'in a small mixing bowl, blend all the ingredients for the crepe along with just enough water to make the crepe batter light and fluffy', 'the batter should coat the back of the spoon, but at the same time it should be runny and thin', 'then strain the crepe mixture through a fine mesh sieve', 'pouring the mix into a tall jug makes it easier to portion out the batter when making crepes on a hot pan', 'allow the crepe batter to rest at room temperature for about 15 to 20 minutes', 'this makes the crepes soft and fluffy', 'the next step is to toss the vegetables in a wok', 'heat a teaspoon of olive oil in a wok; add the broccoli, onion, bell pepper, sprinkle some salt and toss the vegetables on high heat for just 2 to 3 minutes', 'its nice when the vegetables are not over cooked, but are just stir fried to get a crunch in the crepe', 'once done, turn off the heat, check the salt and adjust to suit your taste', 'stir in the parsley and keep aside', 'to begin making the crepes, warm a crepe pan with a rim on a medium heat', 'butter or oil it evenly', 'when the pan gets hot, pour just enough batter to cover the base, and start tilting and swirling the pan to spread the batter and make a crepe', 'these crepes gets cooked really quick and you need to cook it just until the bottom begins to get a little golden, then gently lift the edges and flip the crepe to cook on the other side for a few seconds', 'transfer the prepared whole wheat crepes to a platter and cover with a dome lid to keep warm and soft', 'proceed the same way with the remaining batter and stack the crepes one on top of the other', 'once the crepes are made, spread the cheese spread on the inside of the crepes, place the stir fried vegetables inside and fold into half and serve', 'serve whole wheat crepe recipe with herbed vegetables along with cold coffee smoothie and spinach and feta muffins for breakfast']\n",
      "\n",
      "['to begin making makki and methi roti recipe, heat some water in a pan till lukewarm', 'in a steel mixing bowl, add maize flour, chopped fenugreek leaves, green chillies, carom seeds and salt', 'mix everything well', 'now add lukewarm water to the maize flour little by little and knead into a soft dough', 'add some oil on top of the entire ball of dough and keep aside', 'place a tawa on low heat and let it heat up', 'next divide the dough into small balls', 'roll out each ball between two sheets of plastic (cling film) into a circle or you can use your hands with the help of wet fingers to make a small round roti', 'place roti on the the tawa and cook it on low flame from both sides until brown spots appear', 'prepare the rest of the the rotis in a similar way and serve hot', 'serve makki and methi roti with sarson ka saag and burani raita for a delicious weekday meal']\n",
      "\n",
      "['to begin making the cabbage and carrot sambharo recipe, heat oil in a heavy bottomed pan on medium heat', 'add the mustard seeds and allow it to crackle', 'once it crackles, add the asafoetida, green chilies, curry leaves and saute for a few seconds', 'at this stage add the turmeric powder and the chopped vegetables, salt and stir to combine all the ingredients well', 'turn the heat to low, cover the pan and allow the vegetables to cook in its own steam for about 3 to 4 minutes, until just about cooked', 'you want the vegetables to remain little firm and crunchy and not too soft', 'once done, turn off the heat and the cabbage and carrot sambharo is ready to be served', 'serve cabbage and carrot sambharo along with palak ragi & oats wheat thepla recipe or beetroot & sesame thepla recipe for a simple mean']\n",
      "\n",
      "['to begin making the pita bread we will first have to get your ingredients ready especially the yeast', 'if you are using active dry yeast (look like small round balls) - follow the instructions given in the packet', 'if you are using fast action yeast (looks more like fine semolina) then in a large bowl combine the flours, salt and sugar and gradually add in the yeast and knead the dough until smooth and elastic, adding little flour if it tends to get sticky', 'once all of the ingredients form a ball; add the olive oil and place the ball on a work surface and knead the dough for approximately 10 minutes', 'repeated kneading combines all the ingredients well and will help the bread rise well in the oven', 'once you have finished kneading and gained enough arm muscle; place the dough in a large bowl coated with olive oil and cover it with cling wrap/plastic wrap and allow it to rise for about 2 hours', 'after two hours you will notice that the dough has doubled', 'at this point punch the dough down and knead gently', 'divide the dough into 10 portions and roll each portion into a ball', 'place the balls on a baking sheet and cover them with a damp cloth and let them sit for another 30 minutes', 'while the dough is resting, preheat the oven to 250 c', 'the oven should be preheated for at least half an hour before you can bake the pitas in them', 'now it should be time to work your dough into flat bread', 'take one ball, dust it with a little flour and dust the work surface as well', 'using a rolling pin, roll the pita into an oval or a circle', 'make sure the pitas are thin; about 1/8th inch or 1/4 inch thick', 'continue the same with the remaining dough balls', 'place the rolled portion of pita bread on dusted baking sheets and place it inside the oven', 'bake the pita dough until they puff - you will see them rising forming bubbles, to slowly puffing and fully puffing up', 'the whole process takes a maximum or 3-5 minutes and not more than 5 minutes', 'if the pita bread does not rise in 5 minutes, then take them out', 'the pita bread will still be cooked, but just wont have pockets and will still taste just as good', 'you can serve whole wheat pita bread recipe along with soups or make it into sandwiches like egg bhurji stuffed pita pockets recipe, aloo tikki stuffed pita sandwich recipe, pita sandwich with cauliflower falafel and roasted vegetables recipe and more']\n",
      "\n",
      "['to begin making the andhra style tamati pachadi recipe, take the chopped tomatoes in a deep bottomed pan', 'add salt, turmeric & tamarind to them', 'keep the pan on medium heat & boil till they loose all the water & turn into a mushy paste alike', 'keep stirring in between', 'meanwhile when the tomatoes are boiling, take another pan, heat 2-3 teaspoons of oil', 'add the mustard seeds, fenugreek seeds', 'once they crackle, add dry red chillies', 'fry them till they become fragrant', 'once done, cool them & grind them into a smooth powder', 'add the ground masala that we made in step two to the tomatoes & mix well', \"if you think that the chillies aren't spicy enough, then add red chilli powder according to your preference at this step\", 'once again heat 5 tbsp oil, add the garlic pods & mustard seeds to it', 'once the garlic turns brownish & the seeds crackle, switch off the stove & let them cool', 'add the tempered mixture to the chutney', 'you can even add some urad dal or chana dal to this tempering', 'but make sure to add this tempered oil mix only when it is completely cooled off', 'this is important as it makes sure the chutney stays fresh for a long time', 'serve andhra style tamati pachadi along with ghee masala dosa and homemade soft idlis for your breakfast or as your tea time snack']\n",
      "\n",
      "['to make herb brown rice recipe, first soak the brown rice in 2-1 / 2 cups of water for 1/2 hour', 'heat the oil in a pressure cooker', 'add the garlic and cook for 30 seconds', 'now add onions and cook till they turn golden brown', 'after the onion is cooked, add brown rice, water, red chilli flax, oregano, thyme, salt, mix it well', 'turn off the cooker and cook till 3 cities come', 'simmer the gas and cook for 5 minutes and turn off the gas', 'let the pressure drain automatically', 'open the cooker, mix and serve the rice', 'serve herb brown rice recipe with chicken curry with sweet potato and salad of your choice']\n",
      "\n",
      "['to begin making the aamras recipe, roll the whole mangoes with your palms to soften them', 'peel the mango, transfer all the pulp into a mixer-jar, discarding the seed', 'along with the mango pulp in the jar, add water and adjust the sugar to your liking and depending on the sweetness of the mango', 'pulse it until smooth', 'keep in fridge for some time and serve cold along with your meal', 'serve this delicious aamras recipe along with puri recipe, batata nu shaak and mumbai style masala khichia churi or just enjoy it on its own for your breakfast or evening snack, and you will simply love it']\n",
      "\n",
      "['to begin with, rajasthani khooba roti first, in a large mixing bowl, add flour, salt, and water, mix together with your hands to form crumbs', 'add water to combine it well and make a smooth and yet stiff dough', 'leave the dough aside for 15 minutes so it rests', 'pinch a large lemon sized ball from the dough and roll it to make a ball', 'dust the counter well and roll out the dough ball to make a thick round roti', 'spread a little ghee on one side of the roti and place that side on the tawa', 'after 20 seconds, flip the roti and start pinching on the top of the roti', 'keep pinching till the full roti is covered', 'flip the roti and again roast from the patterned side', 'once both sides are lightly browned hold the roti with a tong, remove it from tawa and place it directly on flames', 'flip and roast from both the sides till its evenly cooked from both the sides', 'once done, switch off the stove and pour ghee on the roti and serve', 'your rajasthani khooba roti is ready to be served with makai wali bhindi or pyaz ki sabzi']\n",
      "\n",
      "['to begin making the peerkangai thogayal recipe, heat a teaspoon oil in a heavy bottomed pan; add the cut peels of the ridge gourd, along with a little salt and saute until soft and tender', 'turn off heat and allow it to cool', 'the peels will not get completely soft, so its ok as long as they have cooked through', 'in another small pan; roast the fenugreek seeds, dry red chillies and urad dal until it releases a roasted aroma and slightly browned', 'now grind the roasted ingredients, the cooked ridge gourd peels, the tamarind and curry leaves together until it forms a smooth paste', 'check the salt in the peerkangai thogayal recipe and adjust to suit your taste', 'heat a little oil in a pan; add mustard seeds, dry red chillies and curry leaves', 'allow it to crackle and the red chillies to roast', 'add it to the peerkangai thogayal', 'serve the peerkangai thogayal along with a hot bowl of steamed rice and ghee']\n",
      "\n",
      "['to make oatmeal pakora recipe, we will first cook dalia', 'wash the panel and keep it aside', 'in a pressure cooker, add 2 cups of water, a little salt, oil, dalia and mix', 'close the pressure cooker and cook until 4 to 5 come to the city', 'turn off the gas and let the pressure drain automatically', 'open the cooker and if there is still water left then keep stirring on high heat and cook until all the water is gone', 'take out the cooked pak in a large bowl and keep it aside to cool', 'after cooling, add gram flour, onion, coriander, green chillies, salt, turmeric powder, cumin, celery, oil, water and make a thick batter', 'add ino fruit salt to it and mix', 'now heat a paniyaram pan', 'add oil to each cavity and after the oil is heated add a little oatmeal batter', 'cook until golden brown and crisp from all sides', 'serve', 'you can also fry these pakodas in a pan', 'serve the dalia pakora recipe with coriander mint chutney and tamarind chutney', 'you can also serve a hot cup of masala tea with it']\n",
      "\n",
      "['to begin making the paneer tikka kathi roll recipe, get all the ingredients prepped and ready', 'if you are making paneer at home you can use our homemade paneer recipe', 'to make the paneer tikka, add all the ingredients for paneer tikka in a bowl except the paneer and stir them well until combined', 'add the cut paneer pieces into it and allow it to rest for 5 minutes', 'heat a teaspoon of oil or ghee in a wok or a skillet, add the paneer mixture and sauté over high heat for four to five minutes, stirring occasionally and cook the paneer until all the marination thickens and forms a coat over the paneer', 'once done, check the salt and spice and adjust to suit your taste', 'keep this aside', 'next step is the give the paneer tikka a smoked flavour', 'place a large piece of coal on the gas flame and allow it to turn red hot', 'place a katori in the center of the paneer tikka pan, place the red hot coal in the katori/ cup and spoon a little bit of ghee over the coal', 'it will begin to emit smoke', 'cover the pan and allow the paneer tikka to get the smoky flavours', 'after about 30 seconds, remove the coal cup and the smoked paneer tikka is ready', 'the next step is to make the roti for the rolls', 'in a large mixing bowl add the flour and salt, give it mix with your fingers', 'add a little water at a time and make a smooth dough', 'once you have the dough ready, add a teaspoon of oil over the dough and knead for a couple of minutes, this will give the dough a flaky texture', 'to make the wrap for the kathi rolls, divide the dough into 5 large portions', 'roll the dough into a large circle by dusting it in flour', 'preheat a skillet on medium heat, place the rolled dough on the skillet and cook it on both sides by smearing ghee over it until it is cooked through and browned and slightly crisp', 'the addition of ghee helps in creating a crisp texture to the rolls', 'in a small mixing bowl, combine the raw onions, capsicum, lemon, mint leaves and salt', 'toss them together', 'place the cooked rotis on a flat surface and place a portion of the filling towards the center, sprinkle some onion capsicum mixture and if you like a little more chaat masala and roll it up tightly', 'the paneer tikka kathi rolls are now ready to be served', 'proceed the same way with the remaining dough portions and serve', \"serve the paneer tikka kathi rolls as a snack for tea on weekends, as an appetizer for parties along mumbai style tawa pulao recipe with moong sprouts and nawabi kofta curry recipe or make it less spicy and pack it into your kid's lunch box\"]\n",
      "\n",
      "['to begin with the pan fried rice balls filled with cheese recipe, first in a heavy bottomed pot, heat oil over medium heat and add some butter', 'as the butter melts, add diced onion and saute until soft for about 4-5 minutesadd rice and give a stir to coat with oil', 'now add 5 cups of water to the rice and 1 teaspoon of salt', 'cover and cook until water has been completely absorbed by the rice', 'stir in the corn and cook covered for another 5 minutes and check if the rice has cooked and absorbed all the water', 'allow it to cool', 'once cooled, combine parsley and parmesan cheese to the mixture', 'make rice balls using hand and stuff each ball with a small cube of mozzarella cheese in the centre', 'the cheese cube should be totally covered with the rice mixture', 'arrange flour in a bowl, 3 beaten eggs in another and breadcrumbs in the third ballcoat the rice balls with all purpose flour', 'shake off the excess flour', 'dip the balls in the beaten egg', 'finally, roll balls in breadcrumbs until it is evenly coated with it', 'repeat for the remaining balls', 'heat some oil in skillet over medium flame', 'once hot add the coated rice balls in batches and cook until they turn golden brown', 'your pan fried rice balls filled with cheese recipe is ready to be served', 'serve the pan fried rice balls filled with cheese recipe with classic marinara sauce or ranch for evening snack']\n",
      "\n",
      "['to begin making the spicy seafood stew casserole with tomatoes and lime recipe, clean basa fish and cut into small pieces', 'clean, wash and devein the prawns', 'wash well', 'i could not get clamps so i did not use it in the recipe but i highly recommend you to use it', 'now marinate seafood in lime juice, 1 teaspoon salt and pepper powder for about 30 minutes', 'let it marinate in the fridge', 'while the seafood is marinating in fridge, we will prepare the stew', 'in a wide pan, heat olive oil', 'add minced garlic and sauté till garlic turns golden brown', 'add finely chopped onions and finely chopped red chilies', 'cook till onions turn soft', 'add finely chopped tomatoes and cook until tomatoes turn mushy', 'add cumin powder, paprika power and remaining salt to taste', 'add peeled potatoes and chopped carrots and give it a mix', 'add chicken stock and bring it to boil', 'cook till potatoes and carrots are fully cooked', 'check for seasoning', 'boil the stew for 5 to 8 minutes more', 'add more stock if needed', 'now add the marinated seafood and cook in low flame for about 8 to 10 minutes', 'once the seafood is cooked, add coconut milk and continue to cook for a minute or two', 'turn off the stove, add fresh chopped coriander leaves and serve hot with toasted bread', 'serve spicy seafood stew casserole with tomatoes and lime along with steamed rice for a weekend lunch or dinner']\n",
      "\n",
      "['to begin making the spicy chilli garlic noodles recipe, first cook the noodles as per the instructions on the packet, with enough water, salt and oil', 'put a pot of water with oil and salt, on the heat and bring it to a rolling boil', 'when it boils, turn the heat down, add the noodles to it and cook for 5-6 minutes or as specified on the packet, till it is cooked al dente', 'take care not to over cook the noodles or they may turn mushy', 'when the noodles are done, drain the noodles in a colander and rinse under cold water to stop the cooking process', 'sprinkle a few drops of oil over the noodles and toss well till they are well coated', 'this will keep the noodles from getting mushy and stuck to each other', 'now you can keep them aside for later use', 'to begin making the spicy seasoning, place a heavy bottomed pan on the heat', 'add some oil and warm it up', 'then add the finely chopped garlic and thin slices of onions and toss on a high heat for a minute', 'add the capsicum and cook it for about a minute or two', 'add soya sauce, red chilli sauce, vinegar, tomato ketchup, crushed dry red chilli and mix well', 'cook with constant stirring for about 30 seconds till the sauces begin to bubble', 'add salt to taste, pepper powder and mix well', 'bear in mind that the sauce and noodles will already contain saltiness so season accordingly', 'next, add the cooked noodles to the prepared sauce and toss well to cot the noodles', 'serve spicy chilli garlic noodles on its own or with mushroom chilli for a weekend meal']\n",
      "\n",
      "['to begin making the chanar dalna recipe, grind roasted cumin and grated ginger in a mortar pestle', 'mix red chilly powder and turmeric in a tablespoon of water and set it aside', 'in a heavy bottomed pan heat oil, add cubed potatoes and fry till the edges turn brown', 'set it aside', 'add paneer cubes to the same oil and fry till they turn gold', 'set it aside', 'add bay leaf and dry red chilly to the same pan', 'add cumin and ginger paste and saute till it turns brown', 'add red chilly and turmeric paste and mix it well, till the raw smell is gone', 'add chopped tomato and cook till it is cooked well and oil separates', 'add paneer and potato cubes to this', 'cook for a minute', 'add 2 cups of water and cook till the potatoes are soft', 'add powdered paanch phoran and give it a good mix', 'boil till the gravy till it reaches the desired consistency and turn off the heat', 'serve chanar dalna with steamed rice and bengali luchi and watermelon smoothie recipe for a weekend brunch']\n",
      "\n",
      "['to begin making cheesy garlic broccoli nuggets recipe, firstly wash and then finely chop the broccoli florets', 'melt nutralite garlic & oregano spread in a pan, add the broccoli and saute it for about a minute until it softens just a bit', 'once it softens, allow it to cool completely', 'once the broccoli florets have cooled down, add in the cheese, cheesy garlic mayo, corn flour and salt and mix well', 'have a taste to check for salt and seasoning and adjust accordingly', 'take a small quantity of the cheesy garlic broccoli nuggets mixture and shape it into small oval kebab size portions', 'toss these cheesy garlic broccoli nuggets on breadcrumbs to give it a crust', 'heat a skillet and melt a little nutralite garlic & oregano spread over medium heat', 'place the cheesy garlic broccoli nuggets and pan fry them on both sides until they are browned and crisp', 'serve cheesy garlic broccoli nuggets recipe along with a cocoa banana almond date smoothie as an after school snack for your kids or even as a party appetizer along with nutralite achari mayo as a dip by the side']\n",
      "\n",
      "['to begin making the bengali mooli aloo ki sabzi recipe, heat mustard oil in a heavy bottomed pan', 'add the mustard seeds, cumin seeds, nigella seeds and saute them for about 10 seconds', 'after 10 seconds, add green chilli and onion', 'cook till the onion becomes soft and translucent', 'once the onions become translucent, add the potatoes in the pan', 'stir them for a while on a medium heat', 'then put the radish into the pan', 'fry them for 4-5 minutes on a medium flame', 'next add in all the spice powders, red chilli powder, turmeric powder, sugar and salt to taste', 'mix well to combine', 'add little water to the vegetables and cover them with a lid', 'allow them cook for few minutes on a low flame and keep stirring in between', 'when the veggies are cooked, add the the mustard paste and mix it with the vegetables properly', 'you can make the curry semi liquid or dry', 'cook for 2 more minutes and turn off the heat', 'transfer bengali mooli aloo ki sabzi into a serving bowl', 'serve bengali mooli aloo ki sabzi along with bengali style lau die tetor dal and steamed rice for a weekday lunch']\n",
      "\n",
      "['to make chakundar sambar, firstly, put the tur dal in the cooker with 2 cups of water and cook it till 3 cities come', 'if you find the lentils thick, add a little more water to it and mix well', 'now in a pressure cooker, add tamarind water, salt and sambar powder along with chakundar', 'turn off the cooker and cook till 3 cities come', 'turn off the gas and let the pressure drain automatically', 'now add chakundar mixture, tur dal, salt and mix in a saucepan', 'keep it to boil', 'now heat the oil for tempering', 'add mustard seeds and dry red chilies', 'after 10 seconds, add curry leaves, asafoetida and turn off the gas', 'add this tempering to the sambar and mix', 'garnish with green coriander and serve', 'serve the chakundar sambar with potato roast and rice for dinner']\n",
      "\n",
      "['to begin making the kaddu palak roti recipe, wash the spinach leaves in cold water and chop them finely', 'remove the skin from pumpkin and grate them', 'in a large bowl, add flour, pumpkin, spinach, spice powders, and salt', 'combine them well', 'add water little by little and mix them well to form a tight dough', 'add water cautiously and in small amount since you would not want the dough too be any runny or not pliable', 'dust the working surface with flour and roll the dough into small lemon-sized balls', 'dust the discs with flour while rolling them, and roll using rolling pin into thin circular discs', 'heat the tawa over medium flame', 'season the tawa with oil and cook the roti on both sides until they are golden on both sides', 'repeat the same for the remaining dough', 'serve it warmly with raita or curry or simple with a bowl of curd', 'prepare this kaddu palak roti and serve it for your dinner/breakfast along with corn and onion raita and dhaniya pudina chutney']\n",
      "\n",
      "['to begin making the iranian baida curry recipe, boil the whole egg in water, make sure the eggs are fully immersed', 'boil them for at least 15 minutes until the eggs are completely cooked and keep them aside to de shell them once it cools down', 'dry roast the ingredients mentioned in the list to grind on to a pan, once done cool it down and grind it into a smooth paste by adding little water', 'heat a kadai with oil, add onions and saute them until it turns golden brown', 'add the ground masala paste', 'saute for 10 minutes', 'add 1 cup of water along with jaggery and bring it to a boil', 'check for salt and adjust according to your palate', 'finally, de-shell the eggs, cut them into half and drop them into the boiling curry', 'boil the curry for 2 more minutes and switch it off', 'serve by garnishing it with some coriander leaves', 'serve the iranian baida curry recipe along with garlic naan, chapathi and some steamed rice along with moong sprouts salad with grated carrots and coriander']\n",
      "\n",
      "['to begin making the vegan chickpea omelette recipe, first place a non-stick griddle/tava on the heat', 'turn the heat to low so it can slowly pre-heat while you prepare the batter', 'to make the batter, sieve the chickpea flour/besan into a mixing bowl to remove all lumps', 'to it, add the ginger-garlic paste, ajwain, asafoetida, turmeric powder, baking soda, onion, tomato, green chillies, coriander leaves and salt', 'mix well to combine', 'next, stir in the coconut milk (or soy or almond milk), if using, and mix to make a smooth batter', 'alternatively, add enough water to make a batter which is smooth and spreadable, but not too watery/runny', 'when the griddle is hot enough, pour a ladle full of the batter on it and spread evenly into a round pancake', 'drizzle oil along the edges of the omelette and cook for 2-3 minutes, on medium heat till the bottom is golden brown', 'lift it gently with a spatula to check if it releases and if that bottom has cooked', 'when it looks golden, flip the omelette over and cook on the other side for 1-2 minutes', 'serve hot along with peanut carrot chutney']\n",
      "\n",
      "['to begin making the ulundu kozhukattai recipe - uppu kozhukattai/ urad dal modak, first soak the urad dal in 2 cups of water for about 3 to 4 hours', 'drain the water completely', 'combine the dal, green chillies, ginger, salt and asafoetida powder and blend into a coarse batter', 'place the batter in steamer plates or idli plates and steam on high heat for about 10 minutes until cooked', 'to check if it is cooked insert a knife in the center and it should come out clean', 'remove from the steamer and allow it to cool', 'once partially cool, cut into pieces crumble the steamed lentils until there are no lumps', 'heat oil in a heavy bottomed pan; add the mustard seeds and allow it to crackle', 'stir in the crumbled steamed lentils into the seasoning and saute for a few minutes until well combined', 'allow the urad dal/ ulundu to cool', 'once cool divide the lentils into 10-15 oval shaped portions and keep aside', 'this will be the savory filling for the rice wrapperto make the wrapper for the modak/ ulundu kozhukattaibring the water to a boil in a pan along with the salt and oil', 'gradually add little rice flour at time and keep stirring till the ulundu kozhukattai mixture comes together', 'turn off the heat and transfer the rice flour mixture to another bowl and cover with a muslin cloth', 'keep it aside for 5 minutes', 'it will help the ulundu kozhukattai dough to come together', 'with a little oil in a cup, smear the oil in your hands and knead the dough well to remove any lumps', 'at all times make sure keep the dough covered with a wet muslin cloth to prevent the dough from drying out', 'take a lemon size portion of the ulundu kozhukattai dough, make into a ball and press the dough in the palm of your hands to make a flat dough, cup your palms a bit so it forms a depression in the center', 'place the urad dal filling in the center and bring the edges of the dough together to the center to make an oval shape ulundu kozhukattaicontinue the similar process with the remaining portions of the dough and dal fillingnote: keep dipping and smearing your fingers and palms with sesame oil when you handle a new portion of the dough', 'this will prevent the ulundu kozhukattai from sticking to your handsprepare the steamer filled with water', 'place the ulundu kozhukattai in the steamer plate and into the steamer', 'steam for about 10 minutes until the ulundu kozhukattai look shiny and smooth', 'you will also notice that if it is not cooked, the rice wrapper will be sticky', 'once they are steamed, the ulundu kozhukattai (ukadiche modaks) are ready for an offering to god for the festival of ganesh chaturthi', 'you can also have this steamed dumpling as your tea time snack']\n",
      "\n",
      "['to begin making singapore style chicken layered fried rice recipe, keep all the ingredients prepped and ready', 'marinate the chicken cubes by combining chicken with spring onions, garlic, green chilies, soya sauce, lemon juice, black pepper, red chili powder, cumin, chilli sauce, sweet and spicy sauce, and salt to taste in a mixing bowl', 'allow chicken to marinate for about 30 minutes', 'you can meanwhile boil the noodles as per instruction on packet and drain it and keep it aside', 'toss the noodles with teaspoon of oil to prevent them from sticking together', 'to make mayonnaise sauceprepare the mayo sauce by mixing mayonnaise, tomato ketchup, red chilli garlic sauce and vinegar', 'keep aside in a bottle or a closed container', 'you can make this ahead of time and keep ready before a few days as well', 'to make fried rice recipe:cook the rice in a pressure cooker for two whistle and let the pressure releases naturally', 'once done open the pressure cooker and fluff up rice and keep aside', 'to make fried rice recipe,heat oil in a wok', 'once the oil is hot add ginger & garlic, and slit green chillies', 'saute till the raw smell disappears, on a low flame such that the ginger garlic does not char', 'now add carrots, saute for a minute, add all the vegetables, and saute on medium heat', 'once they are a bit tender, and then add salt, 5 spice powder, white pepper powder and mix well', 'add rice to the wok and toss till the spiced veggies mix well and turn off heat', 'keep aside', 'to make chicken:in another wok, heat a tablespoon oil and add the marinated chicken and cook covered', 'saute occasionally till tender and cooked well', 'you can sprinkle a bit of water if you want, but the moisture in it is enough for chicken to cook', 'assembling singapore style chicken layered fried rice recipeplace a cup of cooked rice on the serving plate', 'top it up with boiled noodles', 'pour the prepared mayonnaise sauce', 'put sauteed marinated chicken as the topmost layer of the layered fried rice', 'serve singapore style chicken layered fried rice recipe as a one pot meal for lunch, along with a dessert like coconut tapioca pudding recipe with spicy strawberry sauce or cinnamon rice pudding with cherry compote recipe']\n",
      "\n",
      "['to make tofu casserole, first wash and soak the rice for 1/2 hour', 'drain and keep aside', 'heat the ghee in a saucepan', 'after it gets hot, add cumin seeds and let it splutter', 'add onion, green chilli, ginger garlic paste and let it cook till the onion turns brown', 'after that add tomatoes and capsicum to it and mix', 'add red chili powder, turmeric powder, coriander powder, garam masala powder and let it cook for 5 to 7 minutes', 'after 7 minutes add salt to it with tofu and let it cook until the tofu turns light brown', 'add rice and 2 cups of water and mix', 'cover the pan and cook until the rice is cooked', 'turn off the gas after cooking', 'open after 5 minutes and garnish with green coriander', 'serve tofu casserole with spinach raita, kachumbar salad and papad for day or dinner']\n",
      "\n",
      "['to begin making the masala sandwich with rocket leaves, we will first make the masala for the sandwich', 'heat a teaspoon of oil in a wok/kadai, add the onions, ginger, garlic, capsicum and saute them on low to medium heat until soft and tender', 'add the tomatoes, and stir fry until softened', 'this will take 4 to 5 minutes', 'once the tomatoes have softened, add the mashed potatoes, paneer and the pav bhaji masala', 'stir well to combine', 'check the salt and spices and adjust to suit your taste', 'cover the pan, turn the heat to low and cook for 3 to 4 minutes', 'once done, turn off the heat and stir in the coriander leaves', 'slice the french rolls into half lengthwise and spread butter on each half', 'toast them on a skillet until lightly browned', 'once the bread is toasted spread the bombay masala mixture on one half , place the rocket leaves and close the sandwich with the other half on top and press gently so that the sandwich holds together', 'serve the masala sandwich with rocket leaves by cutting them into half', 'serve them hot and fresh with strawberry yogurt lassi recipe or coffee banana oats smoothie recipe for breakfast']\n",
      "\n",
      "['to begin making the tomato relish recipe, heat oil in a heavy bottomed pan', 'add onions, garlic and saute it until translucent', 'add the tomatoes, red wine vinegar and cook on low to medium heat for 10 to 15 minutes until its all softened and mushy', 'cook further to see all the liquid is evaporating', 'next, add mustard, black pepper powder, oregano, sugar and salt and cook until the sauce comes together', 'turn off the heat, let the tomato relish recipe cool and store it in the fridge in a glass container', 'serve tomato relish as a dip or use it as a sauce while making sandwiches and rolls']\n",
      "\n",
      "['to begin making the khandeshi dubuk vade recipe - gram flour dumpling curry, heat a kadai on medium heat, drizzle some oil', 'add chopped onions and garlic and saute till it softens and the onions turn golden brown', 'once the onions have lightly colored, add grated coconut and saute for 5 more minutes until the coconut have also roasted well', 'add chopped coriander leaves and saute for 2 more minutes and turn off the heat', 'allow the mixture to cool down for a while and then blitz it in a mixer with some water to a smooth and creamy mixture', 'to make the dumpling / kandeshi vademix besan flour, red chilli powder, turmeric powder and salt to taste', 'add 1/4 cup water to it and mix to form a dropping consistency batter', \"heat a kuzhi paniyaram pan on medium heat, drizzle some oil and drop in a spoonful of the batter into each cavity and allow the bhadi's to cook on either side for 5 minutes\", 'once done, take the fried kandeshi vade out and drain them over a paper napkin', 'to make the kandeshi vade curry heat a kadai on medium heat, drizzle some oil, add cumin seeds and allow it to crackle for few seconds', 'add ground coriander and coconut paste and keep sauteing until the mixture reduces', 'sprinkle all the spice powders like red chilli powder, turmeric powder, coriander powder, garam masala powder and salt to taste', 'mix well', 'add about 1 cup of water and and keep stirring until the kandeshi dubuk vade curry comes to a boil', 'add in the fried vade and allow the kandeshi dubuk vade curry to boil for 10 more minutes and turn off the heat', 'check the salt and adjust the taste accordingly', 'once done, transfer the khandeshi dubuk vade recipe to a serving bowl and serve hot', 'serve khandeshi dubuk vade recipe - gram flour dumpling curry along with jowar atta roti recipe and aloo palak sabzi for your everyday simple indian lunch']\n",
      "\n",
      "['to begin making the radish soup recipe, wash, peel and slice the radish', 'in a saucepan, add radish slices, garam masala powder, and water', 'cook the radish until tender', 'remove from the stove and allow it to cool', 'once cooled down, blend and pass it through the strainer', 'mix the strained liquid with the required amount of water and pepper', 'boil the soup for few minutes, about 5 minutes', 'serve the soup hot, garnished with radish slices and coriander leaves', 'prepare radish soup effortlessly and enjoy as a mid snack or just sip it before your lunch or dinner during winters']\n",
      "\n",
      "['to begin making the mango donut cake recipe with chocolate glaze, preheat the oven to 180 deg c', 'grease a donut (doughnut) pan with oil or line up with butter paper', 'sift the maida baking powder, baking soda and salt in a bowl', 'mix everything and keep it aside', 'in a mixing bowl, take mango puree along with sugar', 'mix well until sugar dissolves completely', 'next add oil, vanilla essence and mix well again', 'add the mango mixture into the sifted dry flour mixture, fold gently until a smooth batter texture', 'now pour the mango donut cake batter equally into the donut pan slots', 'bake for 25 minutes in the preheated oven at 180 degree c', 'take the mango donut cake from the oven and let them cool down a bit', 'while the mango donut cake is baking, add the chocolates and the cream into the saucepan', 'melt the dark chocolate until you get a smooth chocolate glaze', 'once the mango donut cake is done, remove from the pan and allow it to cool', 'once cooled, hold the mango donut cake upside down, dip the top surface of the cake in the glaze and pull it up', 'let the extra glaze dribble and then immediately turn glaze side up and keep on a cooling rack for the glaze to harden', 'repeat this process for rest of the mango donut cake', 'serve the donut cake after the glaze hardens', 'serve mango donut cake recipe with chocolate glaze along with grilled stuffed mushrooms recipe with onion parmesan & herbs, heart shaped tea sandwiches and adrak chai for your next tea party']\n",
      "\n",
      "['to begin making the matar paneer kachori korma recipe, we will firstly make the dough for kachori', 'dough for the kachorimix maida, salt, carom seeds, oil in a bowl and mix till you get crumbly texture', 'then add cold water to this slowly', \"the dough has to be stiff and shouldn't be kneaded for long\", 'once the dough is done, let this rest for 15 to 20 minutes', 'the next step is to make the filling for kachori', 'heat oil in a heavy bottomed pan, add green peas, salt and all dry spices including turmeric powder, red chilli powder, coriander powder, amchur powder, salt and pepper', 'let it cook for about 4 to 5 minutes while slightly mashing the peas in between', 'after 4 minutes, add the crumbled paneer to this and mix well', 'let it simmer for 2 minutes and take it out in a bowl', 'keep it aside to cool down', 'take a ball size dough and roll it like a roti but slightly thicker', 'take a 2', '5\" diameter lid or cookie cutter and cut the circles', 'now add a small teaspoon of the paneer and matar mixture in the middle and seal them using water on the edges', 'pat them a little to make it flat and keep them aside', 'to make the kachoris, heat the required oil in a frying pan', 'when the oil is hot, add the kachoris and fry them for 5 to 6 minutes until they turn golden brown and crispy on both the sides', 'once done, take them out on a paper towel to absorb the excess oil and place aside', '*gravy / korma for the dishwe will first make the onion paste, tomato paste and cashew paste separately in a mixer', 'keep aside', 'in a wide bottomed pan, add oil, let it heat, then add the whole spices including cloves, mace, cumin seeds, cardamom, cinnamon stick and let it crackle', 'this will take about a minute', 'to the pan, add turmeric powder, red chilli powder, ginger garlic paste, the freshly ground onion paste and let it cook for about 4 to 5 minutes until the raw smell of onions go away', 'add in the tomato puree and let it cook until the tomatoes are well combined into the gravy', 'next, add the cashew paste to tomato onion mixture and stir well to get a uniform mixture', 'switch the heat to low, add the beaten curd and let it cook for 2 minutes', 'next add 1/2 cup of water or more according to the gravy consistency', 'finally add garam masala powder, sugar, salt to taste and let it cook for 5 minutes on low heat', 'once done, add the mini kachoris to the gravy and garnish it with chopped coriander leaves', 'serve matar paneer kachori korma with boondi raita and phulka for a weekday meal', 'serve matar paneer kachori korma along with dal makhani, palak raita, phulka, jeera rice and kachumber salad for a meal, when you have guests coming home for dinner or you are organizing a house party']\n",
      "\n",
      "['to begin making the zucchini roll up lasagne recipe, we will prep the zucchini, cut them vertically long to thin stripes', 'grill the zucchini over a grill pan, until you notice grill marks on either side', 'once you have finished grilling all the zucchini stripes, keep them aside to cool down', 'to make the stuffing for the zucchini roll up lasagneheat a sauce pan with oil, add chopped garlic and saute till they soften', 'add in chopped onions and saute till the onions turn translucent', 'add in chopped zucchini and bell peppers and saute for another 5 minutes, sprinkle all the seasonings like thyme, rosemary and dried red chilli flakes and salt to taste', 'give it a toss and sauté for another 2 minutes and turn off the heat and allow it to cool', 'to make the tomato basil sauceboil the tomatoes with required water in a saucepan', 'once you see the tomato skin peeling, turn off the heat', 'when the skin peel off, then you know the tomatoes are ready', 'peel the skin off the tomatoes, remove the seeds of the tomato and roughly chop them', 'do keep all the juices the tomatoes release, this will add body to the tomato sauce', 'keep the chopped tomatoes aside', 'in a large saucepan, heat the olive oil over medium heat', 'add the chopped garlic and onions', 'stir for a few seconds until it begins to sizzle in the oil and the onions soften', 'at this stage, add in the chopped tomatoes and the roughly chopped basil leaves, some salt, sugar, black pepper corns and stir to combine well', 'we will now use a hand blender to coarsely puree the ingredients together to get a saucy texture', 'cover the pan with the lid slightly ajar and simmer the mixture for 20 to 30 minutes until the sauce is thick', 'keeping the lid slightly ajar helps to thicken the sauce by evaporating the excess water', 'add salt to taste, red chilli flakes for the punch and give it a stir', 'turn off the heat and set aside', 'to make the zucchini roll up lasagnepreheat the oven to 180 degree celsius for 10 minutes', 'place one of the zucchini sheet and add a tablespoon of the filling on one corner and roll it tightly', 'do the same for the rest of the zucchini sheets', 'take out a baking dish, pour the tomato basil sauce on to the tray and place rolled zucchini next to each other inside the tray', 'fill it up completely', 'top each zucchini roll with cheese and bake the zucchini roll up lasagne till the cheese melts', 'once done, remove from the oven and serve hot', 'serve the zucchini roll up lasagne recipe along with garlic bread with herb butter , chickpea orange salad recipe with sun dried tomatoes by the side to make a delicious meal']\n",
      "\n",
      "['to begin cooking the thengai sadam (coconut rice recipe), heat a tablespoon of coconut oil in a heavy bottomed pan or wok', 'add the mustard seeds to the oil, and once it begins to crackle, add in the urad dal, channa dal and the peanuts', 'once the dals begins to brown, add the green chillies, curry leaves and ginger and stir them together for a few minutes', 'next, add in the coconut to the kadai and mix them all together', 'care should be taken to avoid any moisture remaining in the mixture, therefore keep stirring it properly until all the moisture in the coconut evaporates', 'at this stage, stir in the cooked rice and salt and combine all the ingredients well', 'add a tablespoon of coconut oil to it to separate the grains of the rice', 'finally, add a tablespoon of coconut oil to the thengai sadam, to separate the grains of the rice', 'stir fry gently to combine all the ingredient taking care and ensuring that the rice does not get mashed, in the process', 'once combined, turn the heat to low and simmer for a couple of minutes', 'turn off the heat and serve the thengai sadam (coconut rice) hot with a potato roast and papad']\n",
      "\n",
      "['to begin making the karwar style ambade udid methi recipe (hog plum curry), firstly, scrape away the outer layer of the bitter gourd, clean it from inside and cut it into thin rings', 'apply a bit of salt to it (i used 1/4 teaspoon), toss well to coat and keep aside for about an hour to do away with the bitterness of bitter gourd', 'after an hour, wash the chopped bitter gourd thoroughly and keep aside to drain', 'use a little oil and roast the bitter gourd rings on low heat in a kadai till crisp', 'peel and clean the ambade meanwhile when the bitter gourd is roasting on low heat', 'heat a little oil in a kadai (a few drops each time) and lightly roast the coriander seeds, urad dal, methi seeds, rice grains, peppercorns, asafoetida piece and dry red chillies separately on low heat', 'as soon as each ingredient changes its colour, remove from flame and keep aside to cool', 'once cooled, grind all these ingredients in a mixer grinder along with the grated coconut, using required water to form a smooth paste', 'add to this paste to a cup of water and mix well to form a semi-thick gravy and pour in the kadai', 'now, add turmeric powder, ambade/hog plum/amtekai, jaggery, roasted bitter gourd rings, salt to taste and keep on a high heat stirring occasionally till it reaches boiling point', 'once it starts boiling, lower the heat and simmer for about 8-10 minutes or till the ambade are cooked and soft', 'if you feel that the gravy has thickened too much by now, just add some water to bring back a medium consistency which is desirable', 'check for seasoning and adjust salt and jaggery if required', 'in a tadka pan, heat a bit of oil for tempering and when the oil is hot, add mustard seeds and asafoetida', 'pour this over the prepared udid methi', 'serve karwar style ambade udid methi recipe (hog plum curry) along with steamed rice and sol kadhi for a south indian meal']\n",
      "\n",
      "['to begin making the roasted cauliflower, first pre-heat the oven to 200 degree celsius', 'in a mixing bowl, toss together the olive oil, garlic and cauliflower florets', 'sprinkle salt as required', 'place these florets on a baking tray and roast till they just soften (about 10-12 minutes)', 'take the tray out of the oven', 'add the coriander powder, cumin and black pepper powder', 'mix and place it back in the oven to roast for another 10 to 12 minutes or till the cauliflower is cooked and caramelizes or slightly turns brown', 'take it out onto a serving dish', 'garnish with pomegranate seeds, herbs and drizzle some molasses or honey over it', 'serve immediately', 'serve roasted cauliflower as a starter or as a side dish along with panchmel dal and phulkas for a weekday lunch or dinner']\n",
      "\n",
      "['to begin making pain viennois | vienna bread recipe, in a bowl, combine water, sugar, yeast and milk powder in a big mixing bowl', 'allow it to stand for 10 minutes until bubbly and frothy', 'add the flours, salt and butter to the yeast mixture and knead them to a dough', 'later transfer it over a work surface and continue kneading until smooth and pliable for about 10 minutes.do not use any extra flour while kneading or shaping', 'place the dough in a greased bowl and cover the container with a plastic wrap', 'set aside in a warm place until almost tripled in volume', 'transfer the proofed dough on to a flat working surface and knead the dough for a minute or two to release the trapped air', 'divide the dough into 9 equal pieces and shape them into tight round balls', 'place them on a baking sheet and rest them for about 15 minutes', 'flatten each dough ball to remove the air bubbles and shape them into tight 8 inch logs', 'place 4 to 5 logs over each baking tray lined with parchment paper', 'brush their tops with milk or beaten egg', 'carefully score each log horizontally 12 to 15 times with a sharp blade or razor', 'allow them proof for about an hour until doubled', 'bake them in a preheated oven at 450 degree fahrenheit for about 15 minutes rotating the trays half way through to ensure equal baking', 'remove the baked buns and cool them on a wire rack to room temperature', 'vienna bread stays good for upto 2 days at room temperature and can be freezed for upto 3 weeks', 'serve pain viennois | vienna bread recipe after grilling it with braised pork belly recipe or along with beetroot gazpacho soup recipe for a light dinner']\n",
      "\n",
      "[\"to begin making crunchy ginger capsicum rice recipe, let's get the basmati rice ready\", 'wash the basmati rice in running tap water until clear and soak for 30 minutes', 'now, take a big pan, fill it with 3', '5 cups of water and bring it to a rolling boil', 'add the soaked and drained rice, salt to taste, close it with a lid and cook for 20 minutes on a low flame', 'the rice should be cooked to al dente (firm to bite)', 'switch off the flame, let it rest for 10 minutes', 'fluff up the rice with a fork such it does not become lumpy after cooling and keep aside', 'now heat a kadai with some butter and a teaspoon of oil', 'oil will avoid the butter getting burnt or turning brown', 'add the finely chopped bell peppers and green chillies', 'sauté for 2 minutes', 'add the grated ginger and give it a good stir', 'now add 2 cups of cooked basmati rice, season with salt and gently toss it to bring everything together', 'garnish with toasted black and white sesame seeds and switch off the flame', 'serve the crunchy ginger capsicum rice for kids lunch box or with chicken/vegetable manchurian to make an interesting weeknight dinner']\n",
      "\n",
      "['to cook bengali chirer payesh/poha pudding recipe with nolen gur, wash poha/chirer with water and strain the poha', 'soak the washed and drained poha/chirer in a cup of milk', 'also mix 1/2 cup of milk with rice flour and keep aside', 'soak saffron in a little milk', 'keep aside', 'boil the rest of milk and cardamom pods together in a saucepan and bring to boil', 'stir occasionally', 'add rice flour mix in boiling milk and stir constantly', 'boil about 12-15 minutes till the rice flour is cooked and milk is condensed', 'now add milk soaked flattened rice/chirer then add the milk soaked saffron', 'cook chirer payesh for 15 minutes more or when flattened rice/chirer is cooked well and milk thickens considerably, add nolen gur or brown sugar', 'stir it and cook it till the date jaggery/brown sugar dissolves', 'then add chopped almonds/cashews and a pinch of salt, cook for a minute and remove from heat', 'pour the bengali chirer payesh/poha pudding recipe with nolen gur in a serving bowl, garnish with saffron strands/almonds/cashews and raisins and serve hot or chilled with sumptuous meal of cholar dal recipe/ aar macher jhol recipe and jeera rice for dinner']\n",
      "\n",
      "['to begin making the makhan recipe, take out thick milk cream from milk', 'take a mixing jar and put cream in it', 'now add water', 'close the lid and turn on the mixer', 'initially the cream will begun to smoothen and we will get smooth whipped cream', 'continue mixing it in mixer till we see buttermilk and butter getting separated', 'now will see lumps of butter floating in the buttermilk', 'with a spoon or spatula collect the white butter in an air-tight container or can also store in refrigerator', 'homemade white butter is now ready', 'serve makhan on aloo paratha, mooli paratha or any other paratha of your choice']\n",
      "\n",
      "['we begin making the shanghai style chap nian gao recipes (stir fried rice cakes recipes) by preparing the rice cakes, so mix all the ingredients in a microwave bowl and add 1/2 cup water', 'mix thoroughly and make it into a sticky paste', 'cover the bowl with cling film, leaving an inch open', 'place it in the microwave oven for 2 minutes on high', 'remove and add 1/4 water and mix it again and repeat the process', 'once done remove dough and it and place it on the board and using a muddler, pound the dough in order to combine and get a smooth consistency', 'you can apply some oil on the board before doing this process to prevent sticking', 'pound the dough for 5 minutes', 'after it is done, use your hand to bind it together and knead it for 2 minutes', 'divide the dough into two and roll it into the cylindrical shape by applying some more oil on your hand as well as on the board', 'wrap it using a cling film and store it in the fridge for 1 hour', 'remove from the fridge and cut them lengthwise and keep it aside', 'heat a wok with oil, add ginger and garlic, saute for few seconds', 'add all the vegetables and saute them till it is cooked, you can add some water and cover it and let it cook', 'meanwhile,mix all the sauce ingredients in a small bowl with 1/4 water and keep it aside', 'once the vegetables are done , pour in the sauce mixture and keep stirring till it thickens', 'at this point, you can add in the rice cakes and give it a stir', 'serve the shanghai style chap nian gao recipes (stir fried rice cakes recipes) along with general tso cauliflower for a satisfying lunch']\n",
      "\n",
      "['to begin making white pumpkin mor kuzhambu, we need to first cook the pumpkin', 'pressure cook the white pumpkin with little water in a pressure cooker for 2 whistles and release the pressure immediately by running the cooker under cold water', 'keep aside', 'meanwhile, whisk curd with water in a bowl until the its smooth', 'make sure that there are no lumps in the curd', 'next, add grated coconut, green chilli, black pepper powder in a mixer grinder and grind it to a smooth paste with a little water', 'your kuzhambu paste is ready', 'transfer this kuzhambu paste to the curd and mix well', 'once it is mixed properly, add in turmeric powder, cooked white pumpkin, salt and mix everything well', 'place this mixture on low heat in a saucepan and allow the mixture to become warm', 'you will notice a light froth around the edges of the vessel.do not let the mixture boil, the curd will split on high heat', 'turn off the flame the moment you see froth', 'the next step is to temper the kuzhambu', 'in a tempering pan/tadka pan, add one teaspoon of coconut oil', 'once the oil is hot, add mustard seeds and fenugreek seeds, once the mustard seeds starts to crackle, add the curry leaves, dry red chilli and give it a mix', 'turn off the flame and add this tempering to the mor kuzhambu', 'your mor kuzhambu is ready to be served', 'serve mor kuzhambu with steamed rice and menthia keerai paruppu usili for a simple weekday lunch']\n",
      "\n",
      "['to make paneer and green pea paratha recipe, prepare all the ingredients first', 'to make paratha flour: now add wheat flour, salt, oil and mix in a bowl', 'add a little water and knead the dough', 'cover and keep aside', 'to make the masala: heat the oil in a pan', 'add cumin seeds and cook for a few seconds', 'now add ginger, green peas and cook half', 'now add cottage cheese, red chilli powder, coriander powder, mango powder, salt', 'mix well and keep aside', 'let it cool down', 'now take a little piece of flour and roll it out', 'place the mixture of paneer peas in the middle and close it from all sides', 'now coat it with dry flour', 'take the vine again', 'only fat, or else spices can come out', 'make all such parathas', 'heat a griddle', 'put paratha on it and apply ghee on top', 'cook till it turns golden brown from both sides and turn off the gas', 'serve paneer and hare matar paratha recipe with coriander mint chutney and tadka raita for an evening snack']\n",
      "\n",
      "['to make senai pachadi, first peel and cut the yam into small pieces', 'now in a pressure cooker add water, yam as per use and cook till 3 cities come', 'with the pressure coming out automatically, take out the yam separately', 'also keep the remaining water separately', 'now add green coriander, green chillies, ginger and yam in a mixer grinder', 'grind', 'now heat oil in a tempering pan', 'add the ingredients given for tempering and cook it for 30 seconds', 'in a bowl, add yam mixture, curd and remaining water and mix', 'add tempering to it and mix once more', 'serve', 'serve senai pachdi with mixed vegetable sambar, beetroot thoran and rice for dinner']\n",
      "\n",
      "['to make the drunken noodles recipe, firstly boil the flat noodles', 'boil 2 cups of water in a saucepan', 'add a pinch of salt and some oil to it and let it boil on high heat', 'when the water boils, add the noodles and cook till it becomes soft', 'take care not to boil too much', 'turn off the gas and drain the water', 'keep the noodles under cold water, so that the noodles stop cooking', 'transfer the noodles to a bowl', 'add some oil and mix it with your hands', 'keep it aside', 'to make the drunken noodle sauce, add brown sugar, honey, soy sauce, fish sauce and sriracha sauce in a mixing bowl', 'add 1 tablespoon of hot water to it, mix and keep it aside', 'heat oil in a pan', 'add ginger garlic to it and cook for 30 seconds', 'now add onions and cook for 1 minute', 'after 1 minute add all three capsicum, baby corn and cook till the vegetables become soft', 'now add salt, rice noodles and mix it', 'now add the drunken noodle sauce and cook for 3 to 4 minutes', 'turn off the gas and serve', 'serve the drunken noodles recipe with basil chicken and thai style cheese for a weekend dinner', 'you can also serve tender coconut ice cream with it']\n",
      "\n",
      "['to prepare chettinad style prawn biryani recipe, wash and clean prawns well, collect in a bowl and add ginger garlic paste, red chili powder, turmeric, few drops of lemon juice and 2-3 pinch salt', 'mix well and marinate for 15-20 minutes', 'wash and soak rice in water for a minimum 30 minutes before cooking', 'heat oil in a large and thick bottomed handi and add the whole spices and wait till they splutter', 'now add shallots and saute them till they are pale in color', 'add green chili paste, grated coconut and marinated prawns and mix well', 'fry for 4-5 minutes and then slowly add curd and carefully mix everything to avoid breaking the prawns', 'keep the flames high and let the water from curd dry up completely', 'season with coriander powder, garam masala powder and salt', 'fry till it is cooked and deeper in color', 'now add the soaked rice and again stir well such that everything incorporates well with each other', 'add warm water (double the quantity of rice), check salt and add a dollop of ghee and mix well', 'allow the rice to come to a boil, close the lid and let the rice cook at low heat', 'keep the lid covered till the rice is done', 'gently mix the rice and collect in a serving bowl', 'garnish with chopped coriander and chopped curry leaves', 'serve the chettinad style prawn biryani hot with raita for a wholesome meal']\n",
      "\n",
      "['to begin making the walnut and flax seed trail mix recipe with figs & honey, in a mixing bowl, combine the walnuts, figs, flax seeds, honey, roasted peanuts and the cinnamon powder', 'preheat an oven to 190 degree celsius', 'transfer the walnut and flax seed trail mix onto a baking tray and bake for 12 to 15 minutes until they are crisp', 'remove the tray from the oven', 'allow the walnut and flax seed trail mix to cool and transfer to an airtight jar and store', 'serve walnut and flax seed trail mix recipe with figs & honey along with  watermelon smoothie recipe as an after school snack for your kids']\n",
      "\n",
      "['to begin making the murgh malaiwala recipe, firstly clean and wash the chicken pieces and dry it', 'soak kasuri methi leaves in 1/4th cup of water in a small bowl', 'take a big bowl and add chicken, salt, pepper and mix it well', 'refrigerate it for about 2 hours or more', 'after 2 hours, add garlic, ginger, lemon juice, almond paste and 2 tablespoons cream into the chicken and keep it aside for 20 minutes', 'heat a heavy bottomed pan with ghee', 'add cardamom powder and onions in the pan and let it cook till the onions become soft and translucent', 'next, add the marinated chicken pieces and let it cook for 10 minutes', 'after 10 minutes, add in the cream, milk with cinnamon stick and bay leaf', 'boil stirring occasionally till the chicken pieces are fully cooked and semi thick gravy consistency is formed', 'strain the methi leaves and sprinkle on the gravy and stir it well', 'let it cook for about a minute or two', 'switch off the gas, cover the pan and let it sit for 10 minutes before serving', 'serve murgh malaiwala along with burani raita, garlic naan and jeera rice for a weekend meal with your family']\n",
      "\n",
      "['to begin making the paal kesari recipe, prepare all the ingredients and soak crushed saffron strands in a tablespoon of warm milk for 15-20 minutes (soaking is optional for better infusion)', 'heat a pan with ghee and roast the rava/semolina by continuously stirring till it turns fragrant', 'switch off and allow it to cool completely', 'heat a kadai with milk over a low flame and when it starts to boil, add saffron and sugar', 'add cardamom if you like', 'once the sugar melts, keep stirring over low flame and add the roasted rava in parallel to avoid any lumps', 'cook the rava over a low flame, stirring continuously till it is completely cooked', 'switch off', 'heat a tadka pan with ghee and lightly roast the cashew nuts, raisins and any other dry fruits and nuts if using', 'garnish the milk kesari with nuts and raisins', 'your delicious milk kesari is ready to be served immediately or you can refrigerate and serve it chilled', 'serve paal kesari recipe after a south indian meal of tomato onion sambar, jeera rasam, chow chow thoran, steamed rice and elai vadam']\n",
      "\n",
      "['to begin making the spicy lemon chicken kebab recipe, thoroughly wash and clean the chicken, and cut them into cubes', 'to marinate the chicken, in a mixing bowl, combine the chicken pieces along with the bell peppers and onions and lemon juice, dried thyme, red chilli flakes, pepper powder, olive oil, salt and mix well', 'rest it for at least for about 1 hour', 'once it is well coated and marinated, start skewering by first placing the red bell pepper, a chicken cube followed by a onion chunk, repeating the sequence one more time', 'ensure the skewer is not over crowded and packed', 'heat a grill pan, drizzle some oil and place the skewers and cook for at least 25 minutes', 'keep brushing the extra marinade over the chicken and keep turning the skewers so that it is evenly cooked', 'serve the spicy lemon chicken kebab recipe, along with tzatziki dip, sliced onions and green chutney to make it more interesting']\n",
      "\n",
      "['to make paneer butter masala biryani recipe, first wash the rice and soak it for 30 minutes', 'to make rice for biryani, heat ghee in a pressure cooker', 'add cardamom, long, star anise, cinnamon, whole black pepper, bay leaves, and cook for 1 minute', 'now add rice, salt, 2 cups of water and close the cooker', 'cook till 2 cities come and turn off the gas', 'allow the pressure to drain automatically', 'open the cooker and spread out the rice in a plate so that it becomes slightly cold', 'now add fried onions, coriander leaves, mint and mix well', 'keep it aside', 'to make paneer butter masala for biryani, heat oil in a pan', 'add cumin, cardamom, green chillies, ginger, garlic, onion and cook till the onion turns brown', 'now add tomatoes, salt and turn off the gas', 'allow to cool', 'now put this mixture in a mixer grinder and grind it into a paste', 'heat some oil in a pan', 'add the ground spices to it and cook for 1 minute', 'after this, add cumin powder, garam masala powder, red chili powder, honey, kasoori methi and let it cook on low flame', 'after the gravy boils, add cottage cheese, cream and mix it', 'turn off the gas after 1 minute', 'to make biryani, grease a large bowl with butter', 'add fried onions, mint leaves, coriander', 'make a rice layer over it', 'press it well', 'now add paneer butter masala to it', 're-insert these layers and place the rice on the topmost layer', 'now place a plate over it and reverse it', 'serve', 'serve paneer butter masala biryani recipe along with bundi raita and papad for dinner']\n",
      "\n",
      "['to begin making gond ke ladoo, in a large and heavy bottomed pan, add 350 ml ghee and melt it on a low flame', 'once the ghee is hot and melted, add gond/edible gum in the pan little at a time and fry on low flame until the goond puffs up like popcorn and crisps up', 'make sure that goond is completely cooked from inside and outside', 'repeat process with rest of the goond', 'once goond is fried, using a ladle spoon out the goond from the ghee and keep aside to cool down', 'into the same pan containing the melted ghee, add whole wheat flour and roast until it becomes aromatic and brown', 'the mixture should be crumbly', 'turn off the flame', 'transfer the flour on to a plate', 'add the powdered sugar and all dry fruits and mix well', 'let the mixture cool down', 'meanwhile, once the goond has cooled, with a rolling pin, crush them into a coarse powder', 'add this crushed goond in to wheat and dry fruit flour mixture', 'now take little amount of mixture in your hands and give them round shape', 'small or big that is totally up to you', 'keep them aside for few hours, it will help the ladoos to set properly', 'you can keep them in airtight container for a month', 'serve gond ke ladoo as a healthy snack during winter to ward off flus and colds or to new mothers after delivery to provide them with instant energy and aid in lactation']\n",
      "\n",
      "['to begin making the mukhadi halwa recipe, remove 3 table spoons of semolina from one cup of semolina', 'and replace it with 3 tablespoons of all purpose flour', 'transfer this mix into a bowl and add milk', 'whisk them together and set aside while you begin to prep for caramelising the sugar', 'heat a heavy bottomed pan, add ghee and once it begins to get hot (not smoking), reduce the heat to medium', 'add sugar and level it in ghee using a spatula', 'after five minutes stir the sugar using a spatula (using spatula helps ensure that the caramel won’t stick to it)', 'keep stirring once in a while till the sugar starts caramelizing as it melts', '(the colour of the caramel should not deepen or darken in colour as this will lead to a bitter tasting halwa)give a quick stir to the flour-semolina batter and slowly add it to the caramelised sugar', 'now, starts the tricky part', 'hold the wok or pan firmly using a cloth or holder (to avoid the heat) so that you can work your way with the batter', 'using ladle (a large heavy spoon/ kalchhul), carefully yet swiftly start mixing the batter into the caramel', 'the batter will seem to turn lumpy but nothing to worry', 'increase the flame to medium and using the back of the spoon keep smashing the batter, especially the whitish lumps, till the whole batter gets completed assimilated and incorporated with the caramel and the halwa wears a homogeneous look', 'this process will take approximately 3 to 4 minutes', 'you will also notice that the halwa releases the oil as it begins to come together as evenly toned mixture', 'at this point, remove excess oil in a small bowl and again roast the halwa for 3 to 4 minutes', 'switch off the heat and push the halwa towards the edge of one side of the wok to allow any excess ghee to drain in the centre', 'once the ghee leaves the halwa, drain it out in the bowl', 'halwa is now ready to be served!serve mukhadi halwa as a dessert after your weekday meal of dal makhani, aloo ki sabzi and phulka']\n",
      "\n",
      "['to make the kobbari charu recipe, we will first make coconut milk', 'remove the white part of the coconut and grind it in a mixer grinder with 2 cups of water', 'now sieve the milk with the help of a sieve', 'keep it aside', 'in a mixer grinder, add roasted chana dal, green chilli and some water and grind it well', 'heat the oil in a pan', 'add the mustard seeds, cumin and curry leaves and cook for a few seconds', 'now add turmeric powder, water, coconut milk, salt and let it boil', 'after boiling, add chana dal paste and mix it', 'keep shaking so that there are no lumps', 'let it boil after boiling, add green coriander and mix it', 'turn off the gas', 'serve the kobbari charu recipe with rice and chow chow thoran for dinner']\n",
      "\n",
      "['to begin making the kashayam recipe, prep all the ingredients and keep them handy', 'add water into a sauce pan, tear the tulsi leaves and give it a brisk boil', 'once the color of the water changes, add the black pepper powder, ginger powder, palm sugar (panakalkandu), boil for a few more minutes and turn off the heat', 'serve the tulsi kashayam hot and have it 2 to 3 times a day to get maximum relief from cough and cold']\n",
      "\n",
      "['to begin making the carrot corn mayo pancake recipe with sandwich spread, first prep all the ingredients and keep them ready to make the pancakes', 'in a large mixing bowl, add eggs, yogurt and sandwich spread', 'combine very well until creamy', 'stir in the grated carrot, onions, chilies, corn and season with salt and pepper', 'mix very well', 'in another bowl, add flour, baking soda and baking powder, mix well', 'now add the dry flour mixture to the carrot mayo mixture', 'mix to form a thick pancake batter', 'the pancake batter should be of thick creamy consistency', 'stir in the chopped coriander leaves and mix well', 'check the salt and seasonings and adjust to taste accordingly', 'heat flat griddle or pan over medium heat and grease it with a little butter', 'pour a ladle full of pancake batter and cook for a couple of minutes', 'gently flip to cook on the other side for another 2 to 3 minutes', 'once you notice the pancake is lightly browned on both sides and cooked through, remove from the pan', 'repeat the same for the rest of the pancake batter', 'once done, serve the pancakes warm', 'serve the carrot corn mayo pancake as a wholesome breakfast on a sunday along with a bullseye on toast and bowl of fruits with a cup of espresso coffee']\n",
      "\n",
      "['to begin making the tamil nadu style spicy egg fry recipe, we will first boil the egg', 'heat a saucepan with required water and add eggs into it', 'after 15 minutes, you will see that the outer skin of the egg will start to break', 'switch off the gas and let the eggs cool down', 'once done, remove the outer shell and cut the egg into half', 'keep it aside', 'meanwhile, grind all the ingredients together that are mentioned in the list including roasted gram dal, dry red chillies, ginger, garlic, whole black peppercorns and salt by adding little water to form a smooth batter', 'heat a saucepan on a medium heat, drizzle a tablespoon of oil, dip half cut boiled egg carefully into the ground batter and place it over the pan', 'cook on either side till it crisps up and the batter it evenly cooked', 'flip it and cook the other side as well', 'serve the tamil nadu style spicy egg fry recipe on the side along with prawn biryani and raita of your choice to enjoy your simple lunch']\n",
      "\n",
      "['to begin making the chirer dudh puli recipe, firstly we will make the stuffing', 'take a large pan, 1 cup jaggery into this pan and heat it on medium flame', 'once the jaggery is melted, add grated coconut, stir this mixture continuous until the mixture comes together and sticks together', 'switch off the gas when the mixture leaves the sides of the pan', 'keep this mixture in a wide plate to become cool', 'the next step is to make the outer shell for the puli', 'soak chire or poha or flat beaten rice into a bowl of water for 2 to 3 minutes, then wash the chire or poha properly and drain the water through a colander', 'add chire or poha, maida and sooji in a bowl, make a soft dough by adding milk gradually', 'now make lemon sized balls from the dough', 'flatten each ball with your fingers then a make a bowl by pressing down the middle section in.do not make it very thick or thin', 'the shell would be medium thin', 'add small amount of jaggery coconut mixture into it', 'bring together both the edges, then press and seal with your finger', 'make other pulis the same way', 'to make the kheer, add milk for kheer in a big heavy bottomed pan on medium flame', 'once it starts to boil, switch the heat to low and cook for another 5 minutes', 'then remove the pan from the heat, add the required jaggery and mix, then place the pan back on the heat again and let it be cook on low flame', 'adding jaggery into the milk in this way will prevent the milk to be curdled', 'add all the prepared pulis now one by one, cook for another 10 minutes or until pulis are soft and the milk has thickened', 'once done, take the chirer dudh puli out in a bowl and serve hot or chilled', 'serve chirer dudh puli as a dessert after your meal of dhokar dalna, bengali style sheem poshto and luchi for your everyday meal']\n",
      "\n",
      "['to begin making the appalam vatha kuzhambu recipe, prepare all the ingredients and keep them ready', 'heat oil in a preheated pan over medium heat', 'add mustard seeds, fenugreek seeds, curry leaves and dried red chilies', 'allow it to crackle', 'add the onions and saute until the onions have softened and lightly golden', 'once the onions have softened, add the tamarind water, turmeric powder, sambar powder, jaggery and appalam', 'add 3 cups of water, salt to taste and simmer the appalam vatha kuzhambu, until the kuzhambu has thickened and the appalam has soaked and cooked through as well', 'the appalam vatha kuzhambu will have a gravy like consistency with the starch from the appalam giving it this texture', 'adjust the consistency of the kuzhambu by adding water and also check the salt and spices and adjust to taste accordinglyserve the appalam vatha kuzhambu along with hot steamed rice, bean paruppu usili and elai vadam for simple and delicious weekend lunch']\n",
      "\n"
     ]
    }
   ],
   "source": [
    "for i in TranslatedInstructions[:100]:\n",
    "    print(i)\n",
    "    print()"
   ]
  },
  {
   "cell_type": "code",
   "execution_count": 13,
   "id": "39bc6cbe",
   "metadata": {},
   "outputs": [
    {
     "name": "stdout",
     "output_type": "stream",
     "text": [
      "Collecting transformers\n",
      "  Downloading transformers-4.24.0-py3-none-any.whl (5.5 MB)\n",
      "Requirement already satisfied: packaging>=20.0 in c:\\users\\atharva\\appdata\\local\\programs\\python\\python37\\lib\\site-packages (from transformers) (21.3)\n",
      "Requirement already satisfied: requests in c:\\users\\atharva\\appdata\\local\\programs\\python\\python37\\lib\\site-packages (from transformers) (2.28.1)\n",
      "Requirement already satisfied: importlib-metadata; python_version < \"3.8\" in c:\\users\\atharva\\appdata\\local\\programs\\python\\python37\\lib\\site-packages (from transformers) (5.0.0)\n",
      "Requirement already satisfied: tqdm>=4.27 in c:\\users\\atharva\\appdata\\local\\programs\\python\\python37\\lib\\site-packages (from transformers) (4.64.1)\n",
      "Collecting tokenizers!=0.11.3,<0.14,>=0.11.1\n",
      "  Downloading tokenizers-0.13.2-cp37-cp37m-win_amd64.whl (3.3 MB)\n",
      "Collecting filelock\n",
      "  Downloading filelock-3.8.0-py3-none-any.whl (10 kB)\n",
      "Requirement already satisfied: regex!=2019.12.17 in c:\\users\\atharva\\appdata\\local\\programs\\python\\python37\\lib\\site-packages (from transformers) (2022.10.31)\n",
      "Collecting pyyaml>=5.1\n",
      "  Downloading PyYAML-6.0-cp37-cp37m-win_amd64.whl (153 kB)\n",
      "Requirement already satisfied: numpy>=1.17 in c:\\users\\atharva\\appdata\\local\\programs\\python\\python37\\lib\\site-packages (from transformers) (1.21.6)\n",
      "Collecting huggingface-hub<1.0,>=0.10.0\n",
      "  Downloading huggingface_hub-0.11.0-py3-none-any.whl (182 kB)\n",
      "Requirement already satisfied: pyparsing!=3.0.5,>=2.0.2 in c:\\users\\atharva\\appdata\\local\\programs\\python\\python37\\lib\\site-packages (from packaging>=20.0->transformers) (3.0.9)\n",
      "Requirement already satisfied: idna<4,>=2.5 in c:\\users\\atharva\\appdata\\local\\programs\\python\\python37\\lib\\site-packages (from requests->transformers) (3.4)\n",
      "Requirement already satisfied: certifi>=2017.4.17 in c:\\users\\atharva\\appdata\\local\\programs\\python\\python37\\lib\\site-packages (from requests->transformers) (2022.9.24)\n",
      "Requirement already satisfied: charset-normalizer<3,>=2 in c:\\users\\atharva\\appdata\\local\\programs\\python\\python37\\lib\\site-packages (from requests->transformers) (2.1.1)\n",
      "Requirement already satisfied: urllib3<1.27,>=1.21.1 in c:\\users\\atharva\\appdata\\local\\programs\\python\\python37\\lib\\site-packages (from requests->transformers) (1.26.12)\n",
      "Requirement already satisfied: zipp>=0.5 in c:\\users\\atharva\\appdata\\local\\programs\\python\\python37\\lib\\site-packages (from importlib-metadata; python_version < \"3.8\"->transformers) (3.9.0)\n",
      "Requirement already satisfied: typing-extensions>=3.6.4; python_version < \"3.8\" in c:\\users\\atharva\\appdata\\local\\programs\\python\\python37\\lib\\site-packages (from importlib-metadata; python_version < \"3.8\"->transformers) (4.1.1)\n",
      "Requirement already satisfied: colorama; platform_system == \"Windows\" in c:\\users\\atharva\\appdata\\local\\programs\\python\\python37\\lib\\site-packages (from tqdm>=4.27->transformers) (0.4.5)\n",
      "Installing collected packages: tokenizers, filelock, pyyaml, huggingface-hub, transformers\n",
      "Successfully installed filelock-3.8.0 huggingface-hub-0.11.0 pyyaml-6.0 tokenizers-0.13.2 transformers-4.24.0\n"
     ]
    },
    {
     "name": "stderr",
     "output_type": "stream",
     "text": [
      "WARNING: You are using pip version 20.1.1; however, version 22.3.1 is available.\n",
      "You should consider upgrading via the 'c:\\users\\atharva\\appdata\\local\\programs\\python\\python37\\python.exe -m pip install --upgrade pip' command.\n"
     ]
    }
   ],
   "source": [
    "!pip install transformers"
   ]
  },
  {
   "cell_type": "code",
   "execution_count": 2,
   "id": "8d4d039e",
   "metadata": {},
   "outputs": [
    {
     "name": "stderr",
     "output_type": "stream",
     "text": [
      "No model was supplied, defaulted to distilbert-base-cased-distilled-squad and revision 626af31 (https://huggingface.co/distilbert-base-cased-distilled-squad).\n",
      "Using a pipeline without specifying a model name and revision in production is not recommended.\n",
      "All model checkpoint layers were used when initializing TFDistilBertForQuestionAnswering.\n",
      "\n",
      "All the layers of TFDistilBertForQuestionAnswering were initialized from the model checkpoint at distilbert-base-cased-distilled-squad.\n",
      "If your task is similar to the task the model of the checkpoint was trained on, you can already use TFDistilBertForQuestionAnswering for predictions without further training.\n"
     ]
    }
   ],
   "source": [
    "from transformers import pipeline\n",
    "from keras import *\n",
    "\n",
    "qa_model = pipeline(\"question-answering\")"
   ]
  },
  {
   "cell_type": "code",
   "execution_count": 3,
   "id": "d1a0805b",
   "metadata": {},
   "outputs": [],
   "source": [
    "context = 'add 1/4 cup of water and pressure cook the chicken for 3 to 4 whistles and turn off the heat'\n",
    "question = 'what is the quantity of water?'"
   ]
  },
  {
   "cell_type": "code",
   "execution_count": 5,
   "id": "d6037205",
   "metadata": {},
   "outputs": [
    {
     "data": {
      "text/plain": [
       "'1/4 cup'"
      ]
     },
     "execution_count": 5,
     "metadata": {},
     "output_type": "execute_result"
    }
   ],
   "source": [
    "qa_model(question = question, context = context)['answer']"
   ]
  },
  {
   "cell_type": "code",
   "execution_count": null,
   "id": "19c7e13b",
   "metadata": {},
   "outputs": [],
   "source": []
  }
 ],
 "metadata": {
  "kernelspec": {
   "display_name": "Python 3 (ipykernel)",
   "language": "python",
   "name": "python3"
  },
  "language_info": {
   "codemirror_mode": {
    "name": "ipython",
    "version": 3
   },
   "file_extension": ".py",
   "mimetype": "text/x-python",
   "name": "python",
   "nbconvert_exporter": "python",
   "pygments_lexer": "ipython3",
   "version": "3.7.9"
  }
 },
 "nbformat": 4,
 "nbformat_minor": 5
}
